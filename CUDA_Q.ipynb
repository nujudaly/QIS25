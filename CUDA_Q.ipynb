{
  "cells": [
    {
      "cell_type": "markdown",
      "metadata": {
        "id": "view-in-github",
        "colab_type": "text"
      },
      "source": [
        "<a href=\"https://colab.research.google.com/github/nujudaly/QIS25/blob/main/CUDA_Q.ipynb\" target=\"_parent\"><img src=\"https://colab.research.google.com/assets/colab-badge.svg\" alt=\"Open In Colab\"/></a>"
      ]
    },
    {
      "cell_type": "markdown",
      "metadata": {
        "id": "sM_Xvf2S9fYI"
      },
      "source": [
        "###Intro to CUDA-Q NAVIDIA"
      ]
    },
    {
      "cell_type": "code",
      "execution_count": 1,
      "metadata": {
        "colab": {
          "base_uri": "https://localhost:8080/"
        },
        "collapsed": true,
        "id": "oHkXt0OEhCmU",
        "outputId": "14051fbe-7f1c-49a6-e1ef-7eb8d5e11008"
      },
      "outputs": [
        {
          "output_type": "stream",
          "name": "stdout",
          "text": [
            "Collecting cudaq\n",
            "  Downloading cudaq-0.9.1.tar.gz (9.0 kB)\n",
            "  Installing build dependencies ... \u001b[?25l\u001b[?25hdone\n",
            "  Getting requirements to build wheel ... \u001b[?25l\u001b[?25hdone\n",
            "  Preparing metadata (pyproject.toml) ... \u001b[?25l\u001b[?25hdone\n",
            "Collecting cuda-quantum-cu12==0.9.1 (from cudaq)\n",
            "  Downloading cuda_quantum_cu12-0.9.1-cp311-cp311-manylinux_2_28_x86_64.whl.metadata (8.7 kB)\n",
            "Collecting astpretty~=3.0 (from cuda-quantum-cu12==0.9.1->cudaq)\n",
            "  Downloading astpretty-3.0.0-py2.py3-none-any.whl.metadata (5.5 kB)\n",
            "Collecting cuquantum-python-cu12>=24.11 (from cuda-quantum-cu12==0.9.1->cudaq)\n",
            "  Downloading cuquantum_python_cu12-24.11.0-cp311-cp311-manylinux2014_x86_64.whl.metadata (7.4 kB)\n",
            "Requirement already satisfied: numpy>=1.24 in /usr/local/lib/python3.11/dist-packages (from cuda-quantum-cu12==0.9.1->cudaq) (1.26.4)\n",
            "Requirement already satisfied: scipy>=1.10.1 in /usr/local/lib/python3.11/dist-packages (from cuda-quantum-cu12==0.9.1->cudaq) (1.13.1)\n",
            "Requirement already satisfied: requests>=2.31 in /usr/local/lib/python3.11/dist-packages (from cuda-quantum-cu12==0.9.1->cudaq) (2.32.3)\n",
            "Requirement already satisfied: nvidia-cublas-cu12~=12.0 in /usr/local/lib/python3.11/dist-packages (from cuda-quantum-cu12==0.9.1->cudaq) (12.1.3.1)\n",
            "Requirement already satisfied: nvidia-cuda-runtime-cu12~=12.0 in /usr/local/lib/python3.11/dist-packages (from cuda-quantum-cu12==0.9.1->cudaq) (12.1.105)\n",
            "Requirement already satisfied: nvidia-cusolver-cu12~=11.4 in /usr/local/lib/python3.11/dist-packages (from cuda-quantum-cu12==0.9.1->cudaq) (11.4.5.107)\n",
            "Requirement already satisfied: nvidia-cuda-nvrtc-cu12~=12.0 in /usr/local/lib/python3.11/dist-packages (from cuda-quantum-cu12==0.9.1->cudaq) (12.1.105)\n",
            "Collecting custatevec-cu12~=1.7 (from cuquantum-python-cu12>=24.11->cuda-quantum-cu12==0.9.1->cudaq)\n",
            "  Downloading custatevec_cu12-1.7.0-py3-none-manylinux2014_x86_64.whl.metadata (2.2 kB)\n",
            "Collecting cutensornet-cu12~=2.6 (from cuquantum-python-cu12>=24.11->cuda-quantum-cu12==0.9.1->cudaq)\n",
            "  Downloading cutensornet_cu12-2.6.0-py3-none-manylinux2014_x86_64.whl.metadata (2.2 kB)\n",
            "Collecting cudensitymat-cu12~=0.0.5 (from cuquantum-python-cu12>=24.11->cuda-quantum-cu12==0.9.1->cudaq)\n",
            "  Downloading cudensitymat_cu12-0.0.5-py3-none-manylinux2014_x86_64.whl.metadata (2.3 kB)\n",
            "Collecting cupy-cuda12x>=13.0 (from cuquantum-python-cu12>=24.11->cuda-quantum-cu12==0.9.1->cudaq)\n",
            "  Downloading cupy_cuda12x-13.3.0-cp311-cp311-manylinux2014_x86_64.whl.metadata (2.7 kB)\n",
            "Requirement already satisfied: nvidia-nvjitlink-cu12 in /usr/local/lib/python3.11/dist-packages (from nvidia-cusolver-cu12~=11.4->cuda-quantum-cu12==0.9.1->cudaq) (12.6.85)\n",
            "Requirement already satisfied: nvidia-cusparse-cu12 in /usr/local/lib/python3.11/dist-packages (from nvidia-cusolver-cu12~=11.4->cuda-quantum-cu12==0.9.1->cudaq) (12.1.0.106)\n",
            "Requirement already satisfied: charset-normalizer<4,>=2 in /usr/local/lib/python3.11/dist-packages (from requests>=2.31->cuda-quantum-cu12==0.9.1->cudaq) (3.4.1)\n",
            "Requirement already satisfied: idna<4,>=2.5 in /usr/local/lib/python3.11/dist-packages (from requests>=2.31->cuda-quantum-cu12==0.9.1->cudaq) (3.10)\n",
            "Requirement already satisfied: urllib3<3,>=1.21.1 in /usr/local/lib/python3.11/dist-packages (from requests>=2.31->cuda-quantum-cu12==0.9.1->cudaq) (2.3.0)\n",
            "Requirement already satisfied: certifi>=2017.4.17 in /usr/local/lib/python3.11/dist-packages (from requests>=2.31->cuda-quantum-cu12==0.9.1->cudaq) (2024.12.14)\n",
            "Collecting cutensor-cu12<3,>=2.0.2 (from cudensitymat-cu12~=0.0.5->cuquantum-python-cu12>=24.11->cuda-quantum-cu12==0.9.1->cudaq)\n",
            "  Downloading cutensor_cu12-2.0.2-py3-none-manylinux2014_x86_64.whl.metadata (2.1 kB)\n",
            "Requirement already satisfied: fastrlock>=0.5 in /usr/local/lib/python3.11/dist-packages (from cupy-cuda12x>=13.0->cuquantum-python-cu12>=24.11->cuda-quantum-cu12==0.9.1->cudaq) (0.8.3)\n",
            "Downloading cuda_quantum_cu12-0.9.1-cp311-cp311-manylinux_2_28_x86_64.whl (117.6 MB)\n",
            "\u001b[2K   \u001b[90m━━━━━━━━━━━━━━━━━━━━━━━━━━━━━━━━━━━━━━━━\u001b[0m \u001b[32m117.6/117.6 MB\u001b[0m \u001b[31m7.1 MB/s\u001b[0m eta \u001b[36m0:00:00\u001b[0m\n",
            "\u001b[?25hDownloading astpretty-3.0.0-py2.py3-none-any.whl (4.9 kB)\n",
            "Downloading cuquantum_python_cu12-24.11.0-cp311-cp311-manylinux2014_x86_64.whl (5.4 MB)\n",
            "\u001b[2K   \u001b[90m━━━━━━━━━━━━━━━━━━━━━━━━━━━━━━━━━━━━━━━━\u001b[0m \u001b[32m5.4/5.4 MB\u001b[0m \u001b[31m103.4 MB/s\u001b[0m eta \u001b[36m0:00:00\u001b[0m\n",
            "\u001b[?25hDownloading cudensitymat_cu12-0.0.5-py3-none-manylinux2014_x86_64.whl (1.7 MB)\n",
            "\u001b[2K   \u001b[90m━━━━━━━━━━━━━━━━━━━━━━━━━━━━━━━━━━━━━━━━\u001b[0m \u001b[32m1.7/1.7 MB\u001b[0m \u001b[31m75.5 MB/s\u001b[0m eta \u001b[36m0:00:00\u001b[0m\n",
            "\u001b[?25hDownloading cupy_cuda12x-13.3.0-cp311-cp311-manylinux2014_x86_64.whl (91.2 MB)\n",
            "\u001b[2K   \u001b[90m━━━━━━━━━━━━━━━━━━━━━━━━━━━━━━━━━━━━━━━━\u001b[0m \u001b[32m91.2/91.2 MB\u001b[0m \u001b[31m8.7 MB/s\u001b[0m eta \u001b[36m0:00:00\u001b[0m\n",
            "\u001b[?25hDownloading custatevec_cu12-1.7.0-py3-none-manylinux2014_x86_64.whl (38.6 MB)\n",
            "\u001b[2K   \u001b[90m━━━━━━━━━━━━━━━━━━━━━━━━━━━━━━━━━━━━━━━━\u001b[0m \u001b[32m38.6/38.6 MB\u001b[0m \u001b[31m42.5 MB/s\u001b[0m eta \u001b[36m0:00:00\u001b[0m\n",
            "\u001b[?25hDownloading cutensornet_cu12-2.6.0-py3-none-manylinux2014_x86_64.whl (2.3 MB)\n",
            "\u001b[2K   \u001b[90m━━━━━━━━━━━━━━━━━━━━━━━━━━━━━━━━━━━━━━━━\u001b[0m \u001b[32m2.3/2.3 MB\u001b[0m \u001b[31m80.7 MB/s\u001b[0m eta \u001b[36m0:00:00\u001b[0m\n",
            "\u001b[?25hDownloading cutensor_cu12-2.0.2-py3-none-manylinux2014_x86_64.whl (156.9 MB)\n",
            "\u001b[2K   \u001b[90m━━━━━━━━━━━━━━━━━━━━━━━━━━━━━━━━━━━━━━━━\u001b[0m \u001b[32m156.9/156.9 MB\u001b[0m \u001b[31m6.3 MB/s\u001b[0m eta \u001b[36m0:00:00\u001b[0m\n",
            "\u001b[?25hBuilding wheels for collected packages: cudaq\n",
            "  Building wheel for cudaq (pyproject.toml) ... \u001b[?25l\u001b[?25hdone\n",
            "  Created wheel for cudaq: filename=cudaq-0.9.1-py3-none-any.whl size=6787 sha256=3e2729d9cb25dc135256cfb962716843909dc8e736d4f43c80d756577c8a5345\n",
            "  Stored in directory: /root/.cache/pip/wheels/b0/ee/32/0ac9053509c0ba31e4bac6122454996a9a4e4d6523b1918d04\n",
            "Successfully built cudaq\n",
            "Installing collected packages: cutensor-cu12, custatevec-cu12, cutensornet-cu12, cupy-cuda12x, cudensitymat-cu12, astpretty, cuquantum-python-cu12, cuda-quantum-cu12, cudaq\n",
            "  Attempting uninstall: cupy-cuda12x\n",
            "    Found existing installation: cupy-cuda12x 12.2.0\n",
            "    Uninstalling cupy-cuda12x-12.2.0:\n",
            "      Successfully uninstalled cupy-cuda12x-12.2.0\n",
            "Successfully installed astpretty-3.0.0 cuda-quantum-cu12-0.9.1 cudaq-0.9.1 cudensitymat-cu12-0.0.5 cupy-cuda12x-13.3.0 cuquantum-python-cu12-24.11.0 custatevec-cu12-1.7.0 cutensor-cu12-2.0.2 cutensornet-cu12-2.6.0\n"
          ]
        }
      ],
      "source": [
        "!pip install cudaq\n"
      ]
    },
    {
      "cell_type": "code",
      "execution_count": 2,
      "metadata": {
        "colab": {
          "base_uri": "https://localhost:8080/"
        },
        "collapsed": true,
        "id": "FPD_emqPhUh1",
        "outputId": "06b3d46d-f814-4719-e065-35957609ceb5"
      },
      "outputs": [
        {
          "output_type": "stream",
          "name": "stdout",
          "text": [
            "Collecting qutip\n",
            "  Downloading qutip-5.1.1-cp311-cp311-manylinux_2_17_x86_64.manylinux2014_x86_64.whl.metadata (9.2 kB)\n",
            "Requirement already satisfied: numpy>=1.22 in /usr/local/lib/python3.11/dist-packages (from qutip) (1.26.4)\n",
            "Requirement already satisfied: scipy>=1.9 in /usr/local/lib/python3.11/dist-packages (from qutip) (1.13.1)\n",
            "Requirement already satisfied: packaging in /usr/local/lib/python3.11/dist-packages (from qutip) (24.2)\n",
            "Downloading qutip-5.1.1-cp311-cp311-manylinux_2_17_x86_64.manylinux2014_x86_64.whl (30.1 MB)\n",
            "\u001b[2K   \u001b[90m━━━━━━━━━━━━━━━━━━━━━━━━━━━━━━━━━━━━━━━━\u001b[0m \u001b[32m30.1/30.1 MB\u001b[0m \u001b[31m57.6 MB/s\u001b[0m eta \u001b[36m0:00:00\u001b[0m\n",
            "\u001b[?25hInstalling collected packages: qutip\n",
            "Successfully installed qutip-5.1.1\n"
          ]
        }
      ],
      "source": [
        "!pip install qutip\n"
      ]
    },
    {
      "cell_type": "code",
      "execution_count": 3,
      "metadata": {
        "id": "oHl7gB2Ghb7v"
      },
      "outputs": [],
      "source": [
        "import cudaq\n",
        "import qutip\n"
      ]
    },
    {
      "cell_type": "code",
      "execution_count": 4,
      "metadata": {
        "colab": {
          "base_uri": "https://localhost:8080/"
        },
        "id": "N8xmDERChd_g",
        "outputId": "30c54091-aaa3-431a-a855-fa165c387182"
      },
      "outputs": [
        {
          "output_type": "stream",
          "name": "stdout",
          "text": [
            "{ 00:513 11:487 }\n",
            "\n"
          ]
        }
      ],
      "source": [
        "\n",
        "# إنشاء الكيرنل\n",
        "kernel = cudaq.make_kernel()\n",
        "qubits = kernel.qalloc(2)\n",
        "\n",
        "# تطبيق بوابات هادامارد و CNOT\n",
        "kernel.h(qubits[0])\n",
        "kernel.cx(qubits[0], qubits[1])\n",
        "\n",
        "# قياس الكيوبتات\n",
        "kernel.mz(qubits)\n",
        "\n",
        "# تنفيذ الكيرنل وأخذ العينات\n",
        "result = cudaq.sample(kernel)\n",
        "print(result)\n"
      ]
    },
    {
      "cell_type": "code",
      "execution_count": 5,
      "metadata": {
        "id": "GSE_PNyJi-vi"
      },
      "outputs": [],
      "source": [
        "\n",
        "# تحديد عدد الكيوبتات\n",
        "qubit_count = 3\n",
        "\n",
        "# تعريف الكيرنل\n",
        "@cudaq.kernel\n",
        "def ghz_kernel(qubit_count: int):\n",
        "    # تخصيص الكيوبتات\n",
        "    qvector = cudaq.qvector(qubit_count)\n",
        "\n",
        "    # وضع أول كيوبت في حالة التراكب\n",
        "    h(qvector[0])\n",
        "\n",
        "    # تطبيق بوابة CNOT بين الكيوبتات\n",
        "    for i in range(qubit_count - 1):\n",
        "        x.ctrl(qvector[i], qvector[i + 1])\n",
        "\n",
        "    # قياس الكيوبتات\n",
        "    mz(qvector)\n"
      ]
    },
    {
      "cell_type": "code",
      "execution_count": 6,
      "metadata": {
        "colab": {
          "base_uri": "https://localhost:8080/"
        },
        "id": "k5LT3y2PjTSp",
        "outputId": "dfeba817-aaa7-45e3-df19-d1cebe1f5bd5"
      },
      "outputs": [
        {
          "output_type": "stream",
          "name": "stdout",
          "text": [
            "{ 000:490 111:510 }\n",
            "\n"
          ]
        }
      ],
      "source": [
        "# تحديد عدد الكيوبتات\n",
        "qubit_count = 3\n",
        "\n",
        "# تشغيل الكيرنل وجمع النتائج\n",
        "results = cudaq.sample(ghz_kernel, qubit_count)\n",
        "\n",
        "# عرض النتائج\n",
        "print(results)\n"
      ]
    },
    {
      "cell_type": "markdown",
      "metadata": {
        "id": "qktQ69pw9Kk9"
      },
      "source": [
        "###Experminating with NAVIDIA **GPU**"
      ]
    },
    {
      "cell_type": "code",
      "execution_count": 7,
      "metadata": {
        "colab": {
          "base_uri": "https://localhost:8080/"
        },
        "collapsed": true,
        "id": "VWp6ngxKzWBn",
        "outputId": "a03d29bd-b70f-4355-fc9a-559cc1aa53b3"
      },
      "outputs": [
        {
          "output_type": "stream",
          "name": "stdout",
          "text": [
            "Requirement already satisfied: cudaq in /usr/local/lib/python3.11/dist-packages (0.9.1)\n",
            "Requirement already satisfied: cuda-quantum-cu12==0.9.1 in /usr/local/lib/python3.11/dist-packages (from cudaq) (0.9.1)\n",
            "Requirement already satisfied: astpretty~=3.0 in /usr/local/lib/python3.11/dist-packages (from cuda-quantum-cu12==0.9.1->cudaq) (3.0.0)\n",
            "Requirement already satisfied: cuquantum-python-cu12>=24.11 in /usr/local/lib/python3.11/dist-packages (from cuda-quantum-cu12==0.9.1->cudaq) (24.11.0)\n",
            "Requirement already satisfied: numpy>=1.24 in /usr/local/lib/python3.11/dist-packages (from cuda-quantum-cu12==0.9.1->cudaq) (1.26.4)\n",
            "Requirement already satisfied: scipy>=1.10.1 in /usr/local/lib/python3.11/dist-packages (from cuda-quantum-cu12==0.9.1->cudaq) (1.13.1)\n",
            "Requirement already satisfied: requests>=2.31 in /usr/local/lib/python3.11/dist-packages (from cuda-quantum-cu12==0.9.1->cudaq) (2.32.3)\n",
            "Requirement already satisfied: nvidia-cublas-cu12~=12.0 in /usr/local/lib/python3.11/dist-packages (from cuda-quantum-cu12==0.9.1->cudaq) (12.1.3.1)\n",
            "Requirement already satisfied: nvidia-cuda-runtime-cu12~=12.0 in /usr/local/lib/python3.11/dist-packages (from cuda-quantum-cu12==0.9.1->cudaq) (12.1.105)\n",
            "Requirement already satisfied: nvidia-cusolver-cu12~=11.4 in /usr/local/lib/python3.11/dist-packages (from cuda-quantum-cu12==0.9.1->cudaq) (11.4.5.107)\n",
            "Requirement already satisfied: nvidia-cuda-nvrtc-cu12~=12.0 in /usr/local/lib/python3.11/dist-packages (from cuda-quantum-cu12==0.9.1->cudaq) (12.1.105)\n",
            "Requirement already satisfied: custatevec-cu12~=1.7 in /usr/local/lib/python3.11/dist-packages (from cuquantum-python-cu12>=24.11->cuda-quantum-cu12==0.9.1->cudaq) (1.7.0)\n",
            "Requirement already satisfied: cutensornet-cu12~=2.6 in /usr/local/lib/python3.11/dist-packages (from cuquantum-python-cu12>=24.11->cuda-quantum-cu12==0.9.1->cudaq) (2.6.0)\n",
            "Requirement already satisfied: cudensitymat-cu12~=0.0.5 in /usr/local/lib/python3.11/dist-packages (from cuquantum-python-cu12>=24.11->cuda-quantum-cu12==0.9.1->cudaq) (0.0.5)\n",
            "Requirement already satisfied: cupy-cuda12x>=13.0 in /usr/local/lib/python3.11/dist-packages (from cuquantum-python-cu12>=24.11->cuda-quantum-cu12==0.9.1->cudaq) (13.3.0)\n",
            "Requirement already satisfied: nvidia-nvjitlink-cu12 in /usr/local/lib/python3.11/dist-packages (from nvidia-cusolver-cu12~=11.4->cuda-quantum-cu12==0.9.1->cudaq) (12.6.85)\n",
            "Requirement already satisfied: nvidia-cusparse-cu12 in /usr/local/lib/python3.11/dist-packages (from nvidia-cusolver-cu12~=11.4->cuda-quantum-cu12==0.9.1->cudaq) (12.1.0.106)\n",
            "Requirement already satisfied: charset-normalizer<4,>=2 in /usr/local/lib/python3.11/dist-packages (from requests>=2.31->cuda-quantum-cu12==0.9.1->cudaq) (3.4.1)\n",
            "Requirement already satisfied: idna<4,>=2.5 in /usr/local/lib/python3.11/dist-packages (from requests>=2.31->cuda-quantum-cu12==0.9.1->cudaq) (3.10)\n",
            "Requirement already satisfied: urllib3<3,>=1.21.1 in /usr/local/lib/python3.11/dist-packages (from requests>=2.31->cuda-quantum-cu12==0.9.1->cudaq) (2.3.0)\n",
            "Requirement already satisfied: certifi>=2017.4.17 in /usr/local/lib/python3.11/dist-packages (from requests>=2.31->cuda-quantum-cu12==0.9.1->cudaq) (2024.12.14)\n",
            "Requirement already satisfied: cutensor-cu12<3,>=2.0.2 in /usr/local/lib/python3.11/dist-packages (from cudensitymat-cu12~=0.0.5->cuquantum-python-cu12>=24.11->cuda-quantum-cu12==0.9.1->cudaq) (2.0.2)\n",
            "Requirement already satisfied: fastrlock>=0.5 in /usr/local/lib/python3.11/dist-packages (from cupy-cuda12x>=13.0->cuquantum-python-cu12>=24.11->cuda-quantum-cu12==0.9.1->cudaq) (0.8.3)\n"
          ]
        }
      ],
      "source": [
        "pip install cudaq\n"
      ]
    },
    {
      "cell_type": "code",
      "execution_count": 8,
      "metadata": {
        "colab": {
          "base_uri": "https://localhost:8080/"
        },
        "collapsed": true,
        "id": "2EKvAnvxzlcB",
        "outputId": "727d6b6e-c509-4c9f-c0de-c7d5ecdbf07e"
      },
      "outputs": [
        {
          "output_type": "stream",
          "name": "stdout",
          "text": [
            "Requirement already satisfied: cudaq in /usr/local/lib/python3.11/dist-packages (0.9.1)\n",
            "Requirement already satisfied: cuda-quantum-cu12==0.9.1 in /usr/local/lib/python3.11/dist-packages (from cudaq) (0.9.1)\n",
            "Requirement already satisfied: astpretty~=3.0 in /usr/local/lib/python3.11/dist-packages (from cuda-quantum-cu12==0.9.1->cudaq) (3.0.0)\n",
            "Requirement already satisfied: cuquantum-python-cu12>=24.11 in /usr/local/lib/python3.11/dist-packages (from cuda-quantum-cu12==0.9.1->cudaq) (24.11.0)\n",
            "Requirement already satisfied: numpy>=1.24 in /usr/local/lib/python3.11/dist-packages (from cuda-quantum-cu12==0.9.1->cudaq) (1.26.4)\n",
            "Requirement already satisfied: scipy>=1.10.1 in /usr/local/lib/python3.11/dist-packages (from cuda-quantum-cu12==0.9.1->cudaq) (1.13.1)\n",
            "Requirement already satisfied: requests>=2.31 in /usr/local/lib/python3.11/dist-packages (from cuda-quantum-cu12==0.9.1->cudaq) (2.32.3)\n",
            "Requirement already satisfied: nvidia-cublas-cu12~=12.0 in /usr/local/lib/python3.11/dist-packages (from cuda-quantum-cu12==0.9.1->cudaq) (12.1.3.1)\n",
            "Requirement already satisfied: nvidia-cuda-runtime-cu12~=12.0 in /usr/local/lib/python3.11/dist-packages (from cuda-quantum-cu12==0.9.1->cudaq) (12.1.105)\n",
            "Requirement already satisfied: nvidia-cusolver-cu12~=11.4 in /usr/local/lib/python3.11/dist-packages (from cuda-quantum-cu12==0.9.1->cudaq) (11.4.5.107)\n",
            "Requirement already satisfied: nvidia-cuda-nvrtc-cu12~=12.0 in /usr/local/lib/python3.11/dist-packages (from cuda-quantum-cu12==0.9.1->cudaq) (12.1.105)\n",
            "Requirement already satisfied: custatevec-cu12~=1.7 in /usr/local/lib/python3.11/dist-packages (from cuquantum-python-cu12>=24.11->cuda-quantum-cu12==0.9.1->cudaq) (1.7.0)\n",
            "Requirement already satisfied: cutensornet-cu12~=2.6 in /usr/local/lib/python3.11/dist-packages (from cuquantum-python-cu12>=24.11->cuda-quantum-cu12==0.9.1->cudaq) (2.6.0)\n",
            "Requirement already satisfied: cudensitymat-cu12~=0.0.5 in /usr/local/lib/python3.11/dist-packages (from cuquantum-python-cu12>=24.11->cuda-quantum-cu12==0.9.1->cudaq) (0.0.5)\n",
            "Requirement already satisfied: cupy-cuda12x>=13.0 in /usr/local/lib/python3.11/dist-packages (from cuquantum-python-cu12>=24.11->cuda-quantum-cu12==0.9.1->cudaq) (13.3.0)\n",
            "Requirement already satisfied: nvidia-nvjitlink-cu12 in /usr/local/lib/python3.11/dist-packages (from nvidia-cusolver-cu12~=11.4->cuda-quantum-cu12==0.9.1->cudaq) (12.6.85)\n",
            "Requirement already satisfied: nvidia-cusparse-cu12 in /usr/local/lib/python3.11/dist-packages (from nvidia-cusolver-cu12~=11.4->cuda-quantum-cu12==0.9.1->cudaq) (12.1.0.106)\n",
            "Requirement already satisfied: charset-normalizer<4,>=2 in /usr/local/lib/python3.11/dist-packages (from requests>=2.31->cuda-quantum-cu12==0.9.1->cudaq) (3.4.1)\n",
            "Requirement already satisfied: idna<4,>=2.5 in /usr/local/lib/python3.11/dist-packages (from requests>=2.31->cuda-quantum-cu12==0.9.1->cudaq) (3.10)\n",
            "Requirement already satisfied: urllib3<3,>=1.21.1 in /usr/local/lib/python3.11/dist-packages (from requests>=2.31->cuda-quantum-cu12==0.9.1->cudaq) (2.3.0)\n",
            "Requirement already satisfied: certifi>=2017.4.17 in /usr/local/lib/python3.11/dist-packages (from requests>=2.31->cuda-quantum-cu12==0.9.1->cudaq) (2024.12.14)\n",
            "Requirement already satisfied: cutensor-cu12<3,>=2.0.2 in /usr/local/lib/python3.11/dist-packages (from cudensitymat-cu12~=0.0.5->cuquantum-python-cu12>=24.11->cuda-quantum-cu12==0.9.1->cudaq) (2.0.2)\n",
            "Requirement already satisfied: fastrlock>=0.5 in /usr/local/lib/python3.11/dist-packages (from cupy-cuda12x>=13.0->cuquantum-python-cu12>=24.11->cuda-quantum-cu12==0.9.1->cudaq) (0.8.3)\n"
          ]
        }
      ],
      "source": [
        "pip install --upgrade cudaq\n"
      ]
    },
    {
      "cell_type": "code",
      "execution_count": 9,
      "metadata": {
        "colab": {
          "base_uri": "https://localhost:8080/"
        },
        "id": "aDikUPNr5wFv",
        "outputId": "8a38c501-b900-4f3a-baa5-2360bf876e02"
      },
      "outputs": [
        {
          "output_type": "stream",
          "name": "stdout",
          "text": [
            "CPU time:\n",
            "\u001b[1mError running on CPU: <ipython-input-9-0e32737f6b93>:8: \u001b[91merror: \u001b[0m\u001b[1mInvalid function call - 'kernel' is unknown.\n",
            "\t (offending source -> kernel.qalloc)\u001b[0m\n",
            "GPU time:\n",
            "\u001b[1mError running on GPU: <ipython-input-9-0e32737f6b93>:8: \u001b[91merror: \u001b[0m\u001b[1mInvalid function call - 'kernel' is unknown.\n",
            "\t (offending source -> kernel.qalloc)\u001b[0m\n"
          ]
        }
      ],
      "source": [
        "import cudaq\n",
        "import timeit\n",
        "\n",
        "# تعريف الكيرنل\n",
        "@cudaq.kernel\n",
        "def kernel():\n",
        "    qubit_count = 25  # عدد الكيوبتات\n",
        "    qubits = kernel.qalloc(qubit_count)  # تخصيص الكيوبتات\n",
        "\n",
        "    # وضع أول كيوبت في حالة التراكب\n",
        "    kernel.h(qubits[0])\n",
        "\n",
        "    # تطبيق بوابات CNOT لإنشاء حالة GHZ\n",
        "    for i in range(qubit_count - 1):\n",
        "        kernel.cx(qubits[i], qubits[i + 1])\n",
        "\n",
        "    # قياس الكيوبتات\n",
        "    kernel.mz(qubits)\n",
        "\n",
        "# إعداد الكود المراد تنفيذه\n",
        "code_to_time = 'cudaq.sample(kernel, shots_count=1000000)'\n",
        "\n",
        "# تنفيذ الكيرنل على المعالج المركزي (CPU)\n",
        "try:\n",
        "    cudaq.set_target('qpp-cpu')  # تعيين الهدف إلى CPU\n",
        "    print('CPU time:')\n",
        "    cpu_time = timeit.timeit(stmt=code_to_time, globals=globals(), number=1)\n",
        "    print(f'{cpu_time:.5f} seconds')\n",
        "except Exception as e:\n",
        "    print(f\"Error running on CPU: {e}\")\n",
        "\n",
        "# التحقق من وجود GPU وتنفيذ الكيرنل عليه\n",
        "try:\n",
        "    if cudaq.num_available_gpus() > 0:  # التحقق من عدد وحدات GPU المتاحة\n",
        "        cudaq.set_target('nvidia')  # تعيين الهدف إلى GPU\n",
        "        print('GPU time:')\n",
        "        gpu_time = timeit.timeit(stmt=code_to_time, globals=globals(), number=1)\n",
        "        print(f'{gpu_time:.5f} seconds')\n",
        "    else:\n",
        "        print(\"No GPU available.\")\n",
        "except Exception as e:\n",
        "    print(f\"Error running on GPU: {e}\")\n"
      ]
    },
    {
      "cell_type": "code",
      "execution_count": 10,
      "metadata": {
        "colab": {
          "base_uri": "https://localhost:8080/"
        },
        "id": "o98gKzug7Tvu",
        "outputId": "c4ba6ef5-5465-4539-c33f-3c9a0c86f46b"
      },
      "outputs": [
        {
          "output_type": "stream",
          "name": "stdout",
          "text": [
            "GPU is available!\n",
            "GPU Name: Tesla T4\n"
          ]
        }
      ],
      "source": [
        "import torch\n",
        "\n",
        "if torch.cuda.is_available():\n",
        "    print(\"GPU is available!\")\n",
        "    print(f\"GPU Name: {torch.cuda.get_device_name(0)}\")\n",
        "else:\n",
        "    print(\"No GPU available.\")\n"
      ]
    },
    {
      "cell_type": "code",
      "execution_count": 11,
      "metadata": {
        "colab": {
          "base_uri": "https://localhost:8080/"
        },
        "id": "mMQxDlMe7-sV",
        "outputId": "08fa5f63-782e-4ff4-b142-bd396fcefd00"
      },
      "outputs": [
        {
          "output_type": "stream",
          "name": "stdout",
          "text": [
            "Number of GPUs available: 1\n",
            "CUDA-Q GPU is available!\n"
          ]
        }
      ],
      "source": [
        "import cudaq\n",
        "\n",
        "num_gpus = cudaq.num_available_gpus()\n",
        "print(f\"Number of GPUs available: {num_gpus}\")\n",
        "if num_gpus > 0:\n",
        "    print(\"CUDA-Q GPU is available!\")\n",
        "else:\n",
        "    print(\"No GPU available for CUDA-Q.\")\n"
      ]
    },
    {
      "cell_type": "code",
      "execution_count": 12,
      "metadata": {
        "colab": {
          "base_uri": "https://localhost:8080/"
        },
        "id": "5-_-YtcF9PJU",
        "outputId": "db0dd18f-5d8e-4b9b-a34c-9f42c0359446"
      },
      "outputs": [
        {
          "output_type": "stream",
          "name": "stdout",
          "text": [
            "1\n"
          ]
        }
      ],
      "source": [
        "import cudaq\n",
        "print(cudaq.num_available_gpus())\n"
      ]
    },
    {
      "cell_type": "code",
      "execution_count": 13,
      "metadata": {
        "id": "S4lLZ2LW-Ldn"
      },
      "outputs": [],
      "source": [
        "cudaq.set_target('nvidia')\n"
      ]
    },
    {
      "cell_type": "code",
      "execution_count": 14,
      "metadata": {
        "colab": {
          "base_uri": "https://localhost:8080/"
        },
        "id": "Pm420c3V-Yeb",
        "outputId": "9f9eb5f2-ba74-44a5-d590-8410e43dd893"
      },
      "outputs": [
        {
          "output_type": "stream",
          "name": "stdout",
          "text": [
            "{ 0:490 1:510 }\n",
            "\n"
          ]
        }
      ],
      "source": [
        "import cudaq\n",
        "\n",
        "# إنشاء الكيرنل باستخدام make_kernel\n",
        "kernel = cudaq.make_kernel()\n",
        "\n",
        "# تخصيص كيوبت واحد\n",
        "qubits = kernel.qalloc(1)\n",
        "\n",
        "# تطبيق بوابة هادامارد على الكيوبت الأول\n",
        "kernel.h(qubits[0])\n",
        "\n",
        "# قياس الكيوبت\n",
        "kernel.mz(qubits)\n",
        "\n",
        "# تنفيذ الكيرنل\n",
        "result = cudaq.sample(kernel, shots_count=1000)\n",
        "print(result)\n"
      ]
    },
    {
      "cell_type": "code",
      "execution_count": 15,
      "metadata": {
        "colab": {
          "base_uri": "https://localhost:8080/"
        },
        "id": "2_9rVKy8_Yh4",
        "outputId": "eb6a72d4-1773-41d2-db00-830ae19808c5"
      },
      "outputs": [
        {
          "output_type": "stream",
          "name": "stdout",
          "text": [
            "1\n"
          ]
        }
      ],
      "source": [
        "print(cudaq.num_available_gpus())\n"
      ]
    },
    {
      "cell_type": "code",
      "execution_count": 16,
      "metadata": {
        "id": "wDvtHBKp_Y74",
        "colab": {
          "base_uri": "https://localhost:8080/"
        },
        "outputId": "21d8b7ec-e572-416d-e024-fa8b1b8ca2a5"
      },
      "outputs": [
        {
          "output_type": "stream",
          "name": "stdout",
          "text": [
            "Running on CPU...\n",
            "CPU time: 679.28 seconds\n",
            "Running on GPU...\n",
            "GPU time: 0.91 seconds\n"
          ]
        }
      ],
      "source": [
        "import cudaq\n",
        "import timeit\n",
        "\n",
        "# إعداد الكيرنل\n",
        "kernel = cudaq.make_kernel()\n",
        "qubits = kernel.qalloc(25)  # تخصيص 25 كيوبت\n",
        "kernel.h(qubits[0])  # وضع أول كيوبت في حالة التراكب\n",
        "for i in range(24):  # تطبيق بوابات CNOT لإنشاء حالة GHZ\n",
        "    kernel.cx(qubits[i], qubits[i + 1])\n",
        "kernel.mz(qubits)  # قياس الكيوبتات\n",
        "\n",
        "# إعداد الكود لاختبار الوقت\n",
        "def execute_kernel():\n",
        "    return cudaq.sample(kernel, shots_count=1_000_000)\n",
        "\n",
        "# تشغيل الكيرنل على CPU\n",
        "try:\n",
        "    cudaq.set_target('qpp-cpu')  # تعيين الهدف إلى CPU\n",
        "    print(\"Running on CPU...\")\n",
        "    cpu_time = timeit.timeit(execute_kernel, number=1)\n",
        "    print(f\"CPU time: {cpu_time:.2f} seconds\")\n",
        "except Exception as e:\n",
        "    print(f\"Error running on CPU: {e}\")\n",
        "\n",
        "# تشغيل الكيرنل على GPU إذا كان متوفراً\n",
        "try:\n",
        "    if cudaq.num_available_gpus() > 0:  # التحقق من وجود GPU\n",
        "        cudaq.set_target('nvidia')  # تعيين الهدف إلى GPU\n",
        "        print(\"Running on GPU...\")\n",
        "        gpu_time = timeit.timeit(execute_kernel, number=1)\n",
        "        print(f\"GPU time: {gpu_time:.2f} seconds\")\n",
        "    else:\n",
        "        print(\"No GPU available.\")\n",
        "except Exception as e:\n",
        "    print(f\"Error running on GPU: {e}\")\n"
      ]
    },
    {
      "cell_type": "markdown",
      "metadata": {
        "id": "k4DyhYVQ9BNt"
      },
      "source": [
        "###Qiskit **GPU**"
      ]
    },
    {
      "cell_type": "code",
      "execution_count": 17,
      "metadata": {
        "collapsed": true,
        "id": "QsROMq5934n1",
        "colab": {
          "base_uri": "https://localhost:8080/"
        },
        "outputId": "90400c37-fd55-43c7-8669-60b31cd89fde"
      },
      "outputs": [
        {
          "output_type": "stream",
          "name": "stdout",
          "text": [
            "Collecting qiskit\n",
            "  Downloading qiskit-1.3.2-cp39-abi3-manylinux_2_17_x86_64.manylinux2014_x86_64.whl.metadata (12 kB)\n",
            "Collecting rustworkx>=0.15.0 (from qiskit)\n",
            "  Downloading rustworkx-0.16.0-cp39-abi3-manylinux_2_17_x86_64.manylinux2014_x86_64.whl.metadata (10 kB)\n",
            "Requirement already satisfied: numpy<3,>=1.17 in /usr/local/lib/python3.11/dist-packages (from qiskit) (1.26.4)\n",
            "Requirement already satisfied: scipy>=1.5 in /usr/local/lib/python3.11/dist-packages (from qiskit) (1.13.1)\n",
            "Requirement already satisfied: sympy>=1.3 in /usr/local/lib/python3.11/dist-packages (from qiskit) (1.13.1)\n",
            "Collecting dill>=0.3 (from qiskit)\n",
            "  Downloading dill-0.3.9-py3-none-any.whl.metadata (10 kB)\n",
            "Requirement already satisfied: python-dateutil>=2.8.0 in /usr/local/lib/python3.11/dist-packages (from qiskit) (2.8.2)\n",
            "Collecting stevedore>=3.0.0 (from qiskit)\n",
            "  Downloading stevedore-5.4.0-py3-none-any.whl.metadata (2.3 kB)\n",
            "Requirement already satisfied: typing-extensions in /usr/local/lib/python3.11/dist-packages (from qiskit) (4.12.2)\n",
            "Collecting symengine<0.14,>=0.11 (from qiskit)\n",
            "  Downloading symengine-0.13.0-cp311-cp311-manylinux_2_17_x86_64.manylinux2014_x86_64.whl.metadata (1.2 kB)\n",
            "Requirement already satisfied: six>=1.5 in /usr/local/lib/python3.11/dist-packages (from python-dateutil>=2.8.0->qiskit) (1.17.0)\n",
            "Collecting pbr>=2.0.0 (from stevedore>=3.0.0->qiskit)\n",
            "  Downloading pbr-6.1.0-py2.py3-none-any.whl.metadata (3.4 kB)\n",
            "Requirement already satisfied: mpmath<1.4,>=1.1.0 in /usr/local/lib/python3.11/dist-packages (from sympy>=1.3->qiskit) (1.3.0)\n",
            "Downloading qiskit-1.3.2-cp39-abi3-manylinux_2_17_x86_64.manylinux2014_x86_64.whl (6.8 MB)\n",
            "\u001b[2K   \u001b[90m━━━━━━━━━━━━━━━━━━━━━━━━━━━━━━━━━━━━━━━━\u001b[0m \u001b[32m6.8/6.8 MB\u001b[0m \u001b[31m44.7 MB/s\u001b[0m eta \u001b[36m0:00:00\u001b[0m\n",
            "\u001b[?25hDownloading dill-0.3.9-py3-none-any.whl (119 kB)\n",
            "\u001b[2K   \u001b[90m━━━━━━━━━━━━━━━━━━━━━━━━━━━━━━━━━━━━━━━━\u001b[0m \u001b[32m119.4/119.4 kB\u001b[0m \u001b[31m11.6 MB/s\u001b[0m eta \u001b[36m0:00:00\u001b[0m\n",
            "\u001b[?25hDownloading rustworkx-0.16.0-cp39-abi3-manylinux_2_17_x86_64.manylinux2014_x86_64.whl (2.1 MB)\n",
            "\u001b[2K   \u001b[90m━━━━━━━━━━━━━━━━━━━━━━━━━━━━━━━━━━━━━━━━\u001b[0m \u001b[32m2.1/2.1 MB\u001b[0m \u001b[31m78.8 MB/s\u001b[0m eta \u001b[36m0:00:00\u001b[0m\n",
            "\u001b[?25hDownloading stevedore-5.4.0-py3-none-any.whl (49 kB)\n",
            "\u001b[2K   \u001b[90m━━━━━━━━━━━━━━━━━━━━━━━━━━━━━━━━━━━━━━━━\u001b[0m \u001b[32m49.5/49.5 kB\u001b[0m \u001b[31m4.2 MB/s\u001b[0m eta \u001b[36m0:00:00\u001b[0m\n",
            "\u001b[?25hDownloading symengine-0.13.0-cp311-cp311-manylinux_2_17_x86_64.manylinux2014_x86_64.whl (49.7 MB)\n",
            "\u001b[2K   \u001b[90m━━━━━━━━━━━━━━━━━━━━━━━━━━━━━━━━━━━━━━━━\u001b[0m \u001b[32m49.7/49.7 MB\u001b[0m \u001b[31m13.4 MB/s\u001b[0m eta \u001b[36m0:00:00\u001b[0m\n",
            "\u001b[?25hDownloading pbr-6.1.0-py2.py3-none-any.whl (108 kB)\n",
            "\u001b[2K   \u001b[90m━━━━━━━━━━━━━━━━━━━━━━━━━━━━━━━━━━━━━━━━\u001b[0m \u001b[32m108.5/108.5 kB\u001b[0m \u001b[31m10.7 MB/s\u001b[0m eta \u001b[36m0:00:00\u001b[0m\n",
            "\u001b[?25hInstalling collected packages: symengine, rustworkx, pbr, dill, stevedore, qiskit\n",
            "Successfully installed dill-0.3.9 pbr-6.1.0 qiskit-1.3.2 rustworkx-0.16.0 stevedore-5.4.0 symengine-0.13.0\n"
          ]
        }
      ],
      "source": [
        "pip install qiskit"
      ]
    },
    {
      "cell_type": "code",
      "execution_count": 18,
      "metadata": {
        "collapsed": true,
        "id": "kbKEQCl239yS",
        "colab": {
          "base_uri": "https://localhost:8080/"
        },
        "outputId": "6c0971e6-2aa5-4764-b0b1-35ca703b827a"
      },
      "outputs": [
        {
          "output_type": "stream",
          "name": "stdout",
          "text": [
            "Collecting qiskit-ibm-runtime\n",
            "  Downloading qiskit_ibm_runtime-0.34.0-py3-none-any.whl.metadata (3.0 kB)\n",
            "Requirement already satisfied: requests>=2.19 in /usr/local/lib/python3.11/dist-packages (from qiskit-ibm-runtime) (2.32.3)\n",
            "Collecting requests-ntlm>=1.1.0 (from qiskit-ibm-runtime)\n",
            "  Downloading requests_ntlm-1.3.0-py3-none-any.whl.metadata (2.4 kB)\n",
            "Requirement already satisfied: numpy>=1.13 in /usr/local/lib/python3.11/dist-packages (from qiskit-ibm-runtime) (1.26.4)\n",
            "Requirement already satisfied: urllib3>=1.21.1 in /usr/local/lib/python3.11/dist-packages (from qiskit-ibm-runtime) (2.3.0)\n",
            "Requirement already satisfied: python-dateutil>=2.8.0 in /usr/local/lib/python3.11/dist-packages (from qiskit-ibm-runtime) (2.8.2)\n",
            "Requirement already satisfied: websocket-client>=1.5.1 in /usr/local/lib/python3.11/dist-packages (from qiskit-ibm-runtime) (1.8.0)\n",
            "Collecting ibm-platform-services>=0.22.6 (from qiskit-ibm-runtime)\n",
            "  Downloading ibm_platform_services-0.59.1-py3-none-any.whl.metadata (9.0 kB)\n",
            "Collecting pydantic<2.10,>=2.5.0 (from qiskit-ibm-runtime)\n",
            "  Downloading pydantic-2.9.2-py3-none-any.whl.metadata (149 kB)\n",
            "\u001b[2K     \u001b[90m━━━━━━━━━━━━━━━━━━━━━━━━━━━━━━━━━━━━━━━━\u001b[0m \u001b[32m149.4/149.4 kB\u001b[0m \u001b[31m5.7 MB/s\u001b[0m eta \u001b[36m0:00:00\u001b[0m\n",
            "\u001b[?25hRequirement already satisfied: qiskit>=1.1.0 in /usr/local/lib/python3.11/dist-packages (from qiskit-ibm-runtime) (1.3.2)\n",
            "Collecting ibm_cloud_sdk_core<4.0.0,>=3.22.0 (from ibm-platform-services>=0.22.6->qiskit-ibm-runtime)\n",
            "  Downloading ibm_cloud_sdk_core-3.22.1-py3-none-any.whl.metadata (8.6 kB)\n",
            "Requirement already satisfied: annotated-types>=0.6.0 in /usr/local/lib/python3.11/dist-packages (from pydantic<2.10,>=2.5.0->qiskit-ibm-runtime) (0.7.0)\n",
            "Collecting pydantic-core==2.23.4 (from pydantic<2.10,>=2.5.0->qiskit-ibm-runtime)\n",
            "  Downloading pydantic_core-2.23.4-cp311-cp311-manylinux_2_17_x86_64.manylinux2014_x86_64.whl.metadata (6.6 kB)\n",
            "Requirement already satisfied: typing-extensions>=4.6.1 in /usr/local/lib/python3.11/dist-packages (from pydantic<2.10,>=2.5.0->qiskit-ibm-runtime) (4.12.2)\n",
            "Requirement already satisfied: six>=1.5 in /usr/local/lib/python3.11/dist-packages (from python-dateutil>=2.8.0->qiskit-ibm-runtime) (1.17.0)\n",
            "Requirement already satisfied: rustworkx>=0.15.0 in /usr/local/lib/python3.11/dist-packages (from qiskit>=1.1.0->qiskit-ibm-runtime) (0.16.0)\n",
            "Requirement already satisfied: scipy>=1.5 in /usr/local/lib/python3.11/dist-packages (from qiskit>=1.1.0->qiskit-ibm-runtime) (1.13.1)\n",
            "Requirement already satisfied: sympy>=1.3 in /usr/local/lib/python3.11/dist-packages (from qiskit>=1.1.0->qiskit-ibm-runtime) (1.13.1)\n",
            "Requirement already satisfied: dill>=0.3 in /usr/local/lib/python3.11/dist-packages (from qiskit>=1.1.0->qiskit-ibm-runtime) (0.3.9)\n",
            "Requirement already satisfied: stevedore>=3.0.0 in /usr/local/lib/python3.11/dist-packages (from qiskit>=1.1.0->qiskit-ibm-runtime) (5.4.0)\n",
            "Requirement already satisfied: symengine<0.14,>=0.11 in /usr/local/lib/python3.11/dist-packages (from qiskit>=1.1.0->qiskit-ibm-runtime) (0.13.0)\n",
            "Requirement already satisfied: charset-normalizer<4,>=2 in /usr/local/lib/python3.11/dist-packages (from requests>=2.19->qiskit-ibm-runtime) (3.4.1)\n",
            "Requirement already satisfied: idna<4,>=2.5 in /usr/local/lib/python3.11/dist-packages (from requests>=2.19->qiskit-ibm-runtime) (3.10)\n",
            "Requirement already satisfied: certifi>=2017.4.17 in /usr/local/lib/python3.11/dist-packages (from requests>=2.19->qiskit-ibm-runtime) (2024.12.14)\n",
            "Requirement already satisfied: cryptography>=1.3 in /usr/local/lib/python3.11/dist-packages (from requests-ntlm>=1.1.0->qiskit-ibm-runtime) (43.0.3)\n",
            "Collecting pyspnego>=0.4.0 (from requests-ntlm>=1.1.0->qiskit-ibm-runtime)\n",
            "  Downloading pyspnego-0.11.2-py3-none-any.whl.metadata (5.4 kB)\n",
            "Requirement already satisfied: cffi>=1.12 in /usr/local/lib/python3.11/dist-packages (from cryptography>=1.3->requests-ntlm>=1.1.0->qiskit-ibm-runtime) (1.17.1)\n",
            "Requirement already satisfied: PyJWT<3.0.0,>=2.8.0 in /usr/local/lib/python3.11/dist-packages (from ibm_cloud_sdk_core<4.0.0,>=3.22.0->ibm-platform-services>=0.22.6->qiskit-ibm-runtime) (2.10.1)\n",
            "Requirement already satisfied: pbr>=2.0.0 in /usr/local/lib/python3.11/dist-packages (from stevedore>=3.0.0->qiskit>=1.1.0->qiskit-ibm-runtime) (6.1.0)\n",
            "Requirement already satisfied: mpmath<1.4,>=1.1.0 in /usr/local/lib/python3.11/dist-packages (from sympy>=1.3->qiskit>=1.1.0->qiskit-ibm-runtime) (1.3.0)\n",
            "Requirement already satisfied: pycparser in /usr/local/lib/python3.11/dist-packages (from cffi>=1.12->cryptography>=1.3->requests-ntlm>=1.1.0->qiskit-ibm-runtime) (2.22)\n",
            "Downloading qiskit_ibm_runtime-0.34.0-py3-none-any.whl (3.0 MB)\n",
            "\u001b[2K   \u001b[90m━━━━━━━━━━━━━━━━━━━━━━━━━━━━━━━━━━━━━━━━\u001b[0m \u001b[32m3.0/3.0 MB\u001b[0m \u001b[31m40.7 MB/s\u001b[0m eta \u001b[36m0:00:00\u001b[0m\n",
            "\u001b[?25hDownloading ibm_platform_services-0.59.1-py3-none-any.whl (340 kB)\n",
            "\u001b[2K   \u001b[90m━━━━━━━━━━━━━━━━━━━━━━━━━━━━━━━━━━━━━━━━\u001b[0m \u001b[32m340.8/340.8 kB\u001b[0m \u001b[31m20.4 MB/s\u001b[0m eta \u001b[36m0:00:00\u001b[0m\n",
            "\u001b[?25hDownloading pydantic-2.9.2-py3-none-any.whl (434 kB)\n",
            "\u001b[2K   \u001b[90m━━━━━━━━━━━━━━━━━━━━━━━━━━━━━━━━━━━━━━━━\u001b[0m \u001b[32m434.9/434.9 kB\u001b[0m \u001b[31m29.9 MB/s\u001b[0m eta \u001b[36m0:00:00\u001b[0m\n",
            "\u001b[?25hDownloading pydantic_core-2.23.4-cp311-cp311-manylinux_2_17_x86_64.manylinux2014_x86_64.whl (2.1 MB)\n",
            "\u001b[2K   \u001b[90m━━━━━━━━━━━━━━━━━━━━━━━━━━━━━━━━━━━━━━━━\u001b[0m \u001b[32m2.1/2.1 MB\u001b[0m \u001b[31m47.3 MB/s\u001b[0m eta \u001b[36m0:00:00\u001b[0m\n",
            "\u001b[?25hDownloading requests_ntlm-1.3.0-py3-none-any.whl (6.6 kB)\n",
            "Downloading ibm_cloud_sdk_core-3.22.1-py3-none-any.whl (69 kB)\n",
            "\u001b[2K   \u001b[90m━━━━━━━━━━━━━━━━━━━━━━━━━━━━━━━━━━━━━━━━\u001b[0m \u001b[32m69.4/69.4 kB\u001b[0m \u001b[31m6.2 MB/s\u001b[0m eta \u001b[36m0:00:00\u001b[0m\n",
            "\u001b[?25hDownloading pyspnego-0.11.2-py3-none-any.whl (130 kB)\n",
            "\u001b[2K   \u001b[90m━━━━━━━━━━━━━━━━━━━━━━━━━━━━━━━━━━━━━━━━\u001b[0m \u001b[32m130.5/130.5 kB\u001b[0m \u001b[31m11.5 MB/s\u001b[0m eta \u001b[36m0:00:00\u001b[0m\n",
            "\u001b[?25hInstalling collected packages: pydantic-core, pydantic, ibm_cloud_sdk_core, pyspnego, ibm-platform-services, requests-ntlm, qiskit-ibm-runtime\n",
            "  Attempting uninstall: pydantic-core\n",
            "    Found existing installation: pydantic_core 2.27.2\n",
            "    Uninstalling pydantic_core-2.27.2:\n",
            "      Successfully uninstalled pydantic_core-2.27.2\n",
            "  Attempting uninstall: pydantic\n",
            "    Found existing installation: pydantic 2.10.5\n",
            "    Uninstalling pydantic-2.10.5:\n",
            "      Successfully uninstalled pydantic-2.10.5\n",
            "Successfully installed ibm-platform-services-0.59.1 ibm_cloud_sdk_core-3.22.1 pydantic-2.9.2 pydantic-core-2.23.4 pyspnego-0.11.2 qiskit-ibm-runtime-0.34.0 requests-ntlm-1.3.0\n"
          ]
        }
      ],
      "source": [
        "pip install qiskit-ibm-runtime"
      ]
    },
    {
      "cell_type": "code",
      "execution_count": 19,
      "metadata": {
        "collapsed": true,
        "id": "Sx3rhGZj4RLF",
        "colab": {
          "base_uri": "https://localhost:8080/"
        },
        "outputId": "92590f73-feb3-43df-d91e-9fb76ad5bfb9"
      },
      "outputs": [
        {
          "output_type": "stream",
          "name": "stdout",
          "text": [
            "Collecting qiskit-aer\n",
            "  Downloading qiskit_aer-0.16.0-cp311-cp311-manylinux_2_17_x86_64.manylinux2014_x86_64.whl.metadata (8.2 kB)\n",
            "Requirement already satisfied: qiskit>=1.1.0 in /usr/local/lib/python3.11/dist-packages (from qiskit-aer) (1.3.2)\n",
            "Requirement already satisfied: numpy>=1.16.3 in /usr/local/lib/python3.11/dist-packages (from qiskit-aer) (1.26.4)\n",
            "Requirement already satisfied: scipy>=1.0 in /usr/local/lib/python3.11/dist-packages (from qiskit-aer) (1.13.1)\n",
            "Requirement already satisfied: psutil>=5 in /usr/local/lib/python3.11/dist-packages (from qiskit-aer) (5.9.5)\n",
            "Requirement already satisfied: rustworkx>=0.15.0 in /usr/local/lib/python3.11/dist-packages (from qiskit>=1.1.0->qiskit-aer) (0.16.0)\n",
            "Requirement already satisfied: sympy>=1.3 in /usr/local/lib/python3.11/dist-packages (from qiskit>=1.1.0->qiskit-aer) (1.13.1)\n",
            "Requirement already satisfied: dill>=0.3 in /usr/local/lib/python3.11/dist-packages (from qiskit>=1.1.0->qiskit-aer) (0.3.9)\n",
            "Requirement already satisfied: python-dateutil>=2.8.0 in /usr/local/lib/python3.11/dist-packages (from qiskit>=1.1.0->qiskit-aer) (2.8.2)\n",
            "Requirement already satisfied: stevedore>=3.0.0 in /usr/local/lib/python3.11/dist-packages (from qiskit>=1.1.0->qiskit-aer) (5.4.0)\n",
            "Requirement already satisfied: typing-extensions in /usr/local/lib/python3.11/dist-packages (from qiskit>=1.1.0->qiskit-aer) (4.12.2)\n",
            "Requirement already satisfied: symengine<0.14,>=0.11 in /usr/local/lib/python3.11/dist-packages (from qiskit>=1.1.0->qiskit-aer) (0.13.0)\n",
            "Requirement already satisfied: six>=1.5 in /usr/local/lib/python3.11/dist-packages (from python-dateutil>=2.8.0->qiskit>=1.1.0->qiskit-aer) (1.17.0)\n",
            "Requirement already satisfied: pbr>=2.0.0 in /usr/local/lib/python3.11/dist-packages (from stevedore>=3.0.0->qiskit>=1.1.0->qiskit-aer) (6.1.0)\n",
            "Requirement already satisfied: mpmath<1.4,>=1.1.0 in /usr/local/lib/python3.11/dist-packages (from sympy>=1.3->qiskit>=1.1.0->qiskit-aer) (1.3.0)\n",
            "Downloading qiskit_aer-0.16.0-cp311-cp311-manylinux_2_17_x86_64.manylinux2014_x86_64.whl (12.4 MB)\n",
            "\u001b[2K   \u001b[90m━━━━━━━━━━━━━━━━━━━━━━━━━━━━━━━━━━━━━━━━\u001b[0m \u001b[32m12.4/12.4 MB\u001b[0m \u001b[31m107.8 MB/s\u001b[0m eta \u001b[36m0:00:00\u001b[0m\n",
            "\u001b[?25hInstalling collected packages: qiskit-aer\n",
            "Successfully installed qiskit-aer-0.16.0\n"
          ]
        }
      ],
      "source": [
        "pip install qiskit-aer"
      ]
    },
    {
      "cell_type": "code",
      "execution_count": 20,
      "metadata": {
        "collapsed": true,
        "id": "3Pq90Ymo-Lr9",
        "colab": {
          "base_uri": "https://localhost:8080/"
        },
        "outputId": "22c6b903-0997-444e-b4e2-587c73dcdd6e"
      },
      "outputs": [
        {
          "output_type": "stream",
          "name": "stdout",
          "text": [
            "Collecting qiskit-aer-gpu\n",
            "  Downloading qiskit_aer_gpu-0.15.1-cp311-cp311-manylinux_2_17_x86_64.manylinux2014_x86_64.whl.metadata (8.3 kB)\n",
            "Requirement already satisfied: qiskit>=1.1.0 in /usr/local/lib/python3.11/dist-packages (from qiskit-aer-gpu) (1.3.2)\n",
            "Requirement already satisfied: numpy>=1.16.3 in /usr/local/lib/python3.11/dist-packages (from qiskit-aer-gpu) (1.26.4)\n",
            "Requirement already satisfied: scipy>=1.0 in /usr/local/lib/python3.11/dist-packages (from qiskit-aer-gpu) (1.13.1)\n",
            "Requirement already satisfied: psutil>=5 in /usr/local/lib/python3.11/dist-packages (from qiskit-aer-gpu) (5.9.5)\n",
            "Requirement already satisfied: nvidia-cuda-runtime-cu12>=12.1.105 in /usr/local/lib/python3.11/dist-packages (from qiskit-aer-gpu) (12.1.105)\n",
            "Requirement already satisfied: nvidia-nvjitlink-cu12 in /usr/local/lib/python3.11/dist-packages (from qiskit-aer-gpu) (12.6.85)\n",
            "Requirement already satisfied: nvidia-cublas-cu12>=12.1.3.1 in /usr/local/lib/python3.11/dist-packages (from qiskit-aer-gpu) (12.1.3.1)\n",
            "Requirement already satisfied: nvidia-cusolver-cu12>=11.4.5.107 in /usr/local/lib/python3.11/dist-packages (from qiskit-aer-gpu) (11.4.5.107)\n",
            "Requirement already satisfied: nvidia-cusparse-cu12>=12.1.0.106 in /usr/local/lib/python3.11/dist-packages (from qiskit-aer-gpu) (12.1.0.106)\n",
            "Collecting cuquantum-cu12>=23.3.0 (from qiskit-aer-gpu)\n",
            "  Downloading cuquantum_cu12-24.11.0-py3-none-manylinux2014_x86_64.whl.metadata (2.8 kB)\n",
            "Requirement already satisfied: custatevec-cu12==1.7.0 in /usr/local/lib/python3.11/dist-packages (from cuquantum-cu12>=23.3.0->qiskit-aer-gpu) (1.7.0)\n",
            "Requirement already satisfied: cutensornet-cu12==2.6.0 in /usr/local/lib/python3.11/dist-packages (from cuquantum-cu12>=23.3.0->qiskit-aer-gpu) (2.6.0)\n",
            "Requirement already satisfied: cudensitymat-cu12==0.0.5 in /usr/local/lib/python3.11/dist-packages (from cuquantum-cu12>=23.3.0->qiskit-aer-gpu) (0.0.5)\n",
            "Requirement already satisfied: cutensor-cu12<3,>=2.0.2 in /usr/local/lib/python3.11/dist-packages (from cudensitymat-cu12==0.0.5->cuquantum-cu12>=23.3.0->qiskit-aer-gpu) (2.0.2)\n",
            "Requirement already satisfied: rustworkx>=0.15.0 in /usr/local/lib/python3.11/dist-packages (from qiskit>=1.1.0->qiskit-aer-gpu) (0.16.0)\n",
            "Requirement already satisfied: sympy>=1.3 in /usr/local/lib/python3.11/dist-packages (from qiskit>=1.1.0->qiskit-aer-gpu) (1.13.1)\n",
            "Requirement already satisfied: dill>=0.3 in /usr/local/lib/python3.11/dist-packages (from qiskit>=1.1.0->qiskit-aer-gpu) (0.3.9)\n",
            "Requirement already satisfied: python-dateutil>=2.8.0 in /usr/local/lib/python3.11/dist-packages (from qiskit>=1.1.0->qiskit-aer-gpu) (2.8.2)\n",
            "Requirement already satisfied: stevedore>=3.0.0 in /usr/local/lib/python3.11/dist-packages (from qiskit>=1.1.0->qiskit-aer-gpu) (5.4.0)\n",
            "Requirement already satisfied: typing-extensions in /usr/local/lib/python3.11/dist-packages (from qiskit>=1.1.0->qiskit-aer-gpu) (4.12.2)\n",
            "Requirement already satisfied: symengine<0.14,>=0.11 in /usr/local/lib/python3.11/dist-packages (from qiskit>=1.1.0->qiskit-aer-gpu) (0.13.0)\n",
            "Requirement already satisfied: six>=1.5 in /usr/local/lib/python3.11/dist-packages (from python-dateutil>=2.8.0->qiskit>=1.1.0->qiskit-aer-gpu) (1.17.0)\n",
            "Requirement already satisfied: pbr>=2.0.0 in /usr/local/lib/python3.11/dist-packages (from stevedore>=3.0.0->qiskit>=1.1.0->qiskit-aer-gpu) (6.1.0)\n",
            "Requirement already satisfied: mpmath<1.4,>=1.1.0 in /usr/local/lib/python3.11/dist-packages (from sympy>=1.3->qiskit>=1.1.0->qiskit-aer-gpu) (1.3.0)\n",
            "Downloading qiskit_aer_gpu-0.15.1-cp311-cp311-manylinux_2_17_x86_64.manylinux2014_x86_64.whl (18.8 MB)\n",
            "\u001b[2K   \u001b[90m━━━━━━━━━━━━━━━━━━━━━━━━━━━━━━━━━━━━━━━━\u001b[0m \u001b[32m18.8/18.8 MB\u001b[0m \u001b[31m19.4 MB/s\u001b[0m eta \u001b[36m0:00:00\u001b[0m\n",
            "\u001b[?25hDownloading cuquantum_cu12-24.11.0-py3-none-manylinux2014_x86_64.whl (7.1 kB)\n",
            "Installing collected packages: cuquantum-cu12, qiskit-aer-gpu\n",
            "Successfully installed cuquantum-cu12-24.11.0 qiskit-aer-gpu-0.15.1\n"
          ]
        }
      ],
      "source": [
        "pip install qiskit-aer-gpu\n"
      ]
    },
    {
      "cell_type": "code",
      "execution_count": 21,
      "metadata": {
        "id": "mh0O_TYZ84Od",
        "colab": {
          "base_uri": "https://localhost:8080/"
        },
        "outputId": "aa4250cd-7248-4cd3-aac7-125841ceb909"
      },
      "outputs": [
        {
          "output_type": "stream",
          "name": "stdout",
          "text": [
            "Running Qiskit on Simulator...\n",
            "Qiskit Results: {'1111111111111111111111111': 499635, '0000000000000000000000000': 500365}\n",
            "Qiskit Execution Time: 25.45 seconds\n",
            "{'backend_name': 'aer_simulator', 'backend_version': '0.15.1', 'n_qubits': 29, 'basis_gates': ['ccx', 'ccz', 'cp', 'crx', 'cry', 'crz', 'cswap', 'csx', 'cu', 'cu1', 'cu2', 'cu3', 'cx', 'cy', 'cz', 'diagonal', 'ecr', 'h', 'id', 'mcp', 'mcphase', 'mcr', 'mcrx', 'mcry', 'mcrz', 'mcswap', 'mcsx', 'mcu', 'mcu1', 'mcu2', 'mcu3', 'mcx', 'mcx_gray', 'mcy', 'mcz', 'multiplexer', 'p', 'pauli', 'r', 'roerror', 'rx', 'rxx', 'ry', 'ryy', 'rz', 'rzx', 'rzz', 's', 'sdg', 'store', 'swap', 'sx', 'sxdg', 't', 'tdg', 'u', 'u1', 'u2', 'u3', 'unitary', 'x', 'y', 'z', 'break_loop', 'continue_loop', 'delay', 'for_loop', 'if_else', 'initialize', 'kraus', 'qerror_loc', 'quantum_channel', 'reset', 'roerror', 'save_amplitudes', 'save_amplitudes_sq', 'save_clifford', 'save_density_matrix', 'save_expval', 'save_expval_var', 'save_matrix_product_state', 'save_probabilities', 'save_probabilities_dict', 'save_stabilizer', 'save_state', 'save_statevector', 'save_statevector_dict', 'save_superop', 'save_unitary', 'set_density_matrix', 'set_matrix_product_state', 'set_stabilizer', 'set_statevector', 'set_superop', 'set_unitary', 'superop', 'switch_case', 'while_loop'], 'gates': [], 'local': True, 'simulator': True, 'conditional': True, 'memory': True, 'max_shots': 1000000, 'coupling_map': None, 'dynamic_reprate_enabled': False, 'description': 'A C++ Qasm simulator with noise', 'url': 'https://github.com/Qiskit/qiskit-aer', 'custom_instructions': ['break_loop', 'continue_loop', 'delay', 'for_loop', 'if_else', 'initialize', 'kraus', 'qerror_loc', 'quantum_channel', 'reset', 'roerror', 'save_amplitudes', 'save_amplitudes_sq', 'save_clifford', 'save_density_matrix', 'save_expval', 'save_expval_var', 'save_matrix_product_state', 'save_probabilities', 'save_probabilities_dict', 'save_stabilizer', 'save_state', 'save_statevector', 'save_statevector_dict', 'save_superop', 'save_unitary', 'set_density_matrix', 'set_matrix_product_state', 'set_stabilizer', 'set_statevector', 'set_superop', 'set_unitary', 'superop', 'switch_case', 'while_loop']}\n"
          ]
        }
      ],
      "source": [
        "from qiskit import QuantumCircuit, transpile\n",
        "from qiskit_aer import Aer\n",
        "from qiskit_aer import AerSimulator\n",
        "import time\n",
        "\n",
        "# إنشاء دائرة GHZ مع 25 كيوبت\n",
        "qc = QuantumCircuit(25)\n",
        "qc.h(0)  # بوابة هادامارد على الكيوبت الأول\n",
        "for i in range(24):  # تطبيق بوابات CNOT لإنشاء حالة GHZ\n",
        "    qc.cx(i, i + 1)\n",
        "qc.measure_all()  # قياس الكيوبتات\n",
        "\n",
        "# إعداد المحاكي (Aer Simulator)\n",
        "backend = AerSimulator()\n",
        "# ترجمة الدائرة لتكون جاهزة للتنفيذ\n",
        "transpiled_circuit = transpile(qc, backend)\n",
        "\n",
        "# تشغيل الكيرنل على CPU أو GPU\n",
        "try:\n",
        "    print(\"Running Qiskit on Simulator...\")\n",
        "    start_time = time.time()\n",
        "    job = backend.run(transpiled_circuit, shots=1_000_000)\n",
        "    result = job.result()\n",
        "    counts = result.get_counts()\n",
        "    qiskit_time = time.time() - start_time\n",
        "    print(f\"Qiskit Results: {counts}\")\n",
        "    print(f\"Qiskit Execution Time: {qiskit_time:.2f} seconds\")\n",
        "except Exception as e:\n",
        "    print(f\"Error running Qiskit: {e}\")\n",
        "\n",
        "# تحقق من دعم GPU\n",
        "print(backend.configuration().to_dict())"
      ]
    },
    {
      "cell_type": "markdown",
      "metadata": {
        "id": "vr7_3ZXp8zD0"
      },
      "source": [
        "###Pennylane **GPU**"
      ]
    },
    {
      "cell_type": "code",
      "execution_count": 22,
      "metadata": {
        "collapsed": true,
        "id": "SAOn16FqAOSc",
        "colab": {
          "base_uri": "https://localhost:8080/"
        },
        "outputId": "9f98679a-793c-4215-faba-68695c5b8548"
      },
      "outputs": [
        {
          "output_type": "stream",
          "name": "stdout",
          "text": [
            "Collecting pennylane\n",
            "  Downloading PennyLane-0.40.0-py3-none-any.whl.metadata (10 kB)\n",
            "Requirement already satisfied: numpy<2.1 in /usr/local/lib/python3.11/dist-packages (from pennylane) (1.26.4)\n",
            "Requirement already satisfied: scipy in /usr/local/lib/python3.11/dist-packages (from pennylane) (1.13.1)\n",
            "Requirement already satisfied: networkx in /usr/local/lib/python3.11/dist-packages (from pennylane) (3.4.2)\n",
            "Requirement already satisfied: rustworkx>=0.14.0 in /usr/local/lib/python3.11/dist-packages (from pennylane) (0.16.0)\n",
            "Requirement already satisfied: autograd in /usr/local/lib/python3.11/dist-packages (from pennylane) (1.7.0)\n",
            "Collecting tomlkit (from pennylane)\n",
            "  Downloading tomlkit-0.13.2-py3-none-any.whl.metadata (2.7 kB)\n",
            "Collecting appdirs (from pennylane)\n",
            "  Downloading appdirs-1.4.4-py2.py3-none-any.whl.metadata (9.0 kB)\n",
            "Collecting autoray>=0.6.11 (from pennylane)\n",
            "  Downloading autoray-0.7.0-py3-none-any.whl.metadata (5.8 kB)\n",
            "Requirement already satisfied: cachetools in /usr/local/lib/python3.11/dist-packages (from pennylane) (5.5.1)\n",
            "Collecting pennylane-lightning>=0.40 (from pennylane)\n",
            "  Downloading PennyLane_Lightning-0.40.0-cp311-cp311-manylinux_2_28_x86_64.whl.metadata (27 kB)\n",
            "Requirement already satisfied: requests in /usr/local/lib/python3.11/dist-packages (from pennylane) (2.32.3)\n",
            "Requirement already satisfied: typing-extensions in /usr/local/lib/python3.11/dist-packages (from pennylane) (4.12.2)\n",
            "Requirement already satisfied: packaging in /usr/local/lib/python3.11/dist-packages (from pennylane) (24.2)\n",
            "Collecting diastatic-malt (from pennylane)\n",
            "  Downloading diastatic_malt-2.15.2-py3-none-any.whl.metadata (2.6 kB)\n",
            "Collecting scipy-openblas32>=0.3.26 (from pennylane-lightning>=0.40->pennylane)\n",
            "  Downloading scipy_openblas32-0.3.29.0.0-py3-none-manylinux_2_17_x86_64.manylinux2014_x86_64.whl.metadata (56 kB)\n",
            "\u001b[2K     \u001b[90m━━━━━━━━━━━━━━━━━━━━━━━━━━━━━━━━━━━━━━━━\u001b[0m \u001b[32m56.1/56.1 kB\u001b[0m \u001b[31m4.5 MB/s\u001b[0m eta \u001b[36m0:00:00\u001b[0m\n",
            "\u001b[?25hRequirement already satisfied: astunparse in /usr/local/lib/python3.11/dist-packages (from diastatic-malt->pennylane) (1.6.3)\n",
            "Requirement already satisfied: gast in /usr/local/lib/python3.11/dist-packages (from diastatic-malt->pennylane) (0.6.0)\n",
            "Requirement already satisfied: termcolor in /usr/local/lib/python3.11/dist-packages (from diastatic-malt->pennylane) (2.5.0)\n",
            "Requirement already satisfied: charset-normalizer<4,>=2 in /usr/local/lib/python3.11/dist-packages (from requests->pennylane) (3.4.1)\n",
            "Requirement already satisfied: idna<4,>=2.5 in /usr/local/lib/python3.11/dist-packages (from requests->pennylane) (3.10)\n",
            "Requirement already satisfied: urllib3<3,>=1.21.1 in /usr/local/lib/python3.11/dist-packages (from requests->pennylane) (2.3.0)\n",
            "Requirement already satisfied: certifi>=2017.4.17 in /usr/local/lib/python3.11/dist-packages (from requests->pennylane) (2024.12.14)\n",
            "Requirement already satisfied: wheel<1.0,>=0.23.0 in /usr/local/lib/python3.11/dist-packages (from astunparse->diastatic-malt->pennylane) (0.45.1)\n",
            "Requirement already satisfied: six<2.0,>=1.6.1 in /usr/local/lib/python3.11/dist-packages (from astunparse->diastatic-malt->pennylane) (1.17.0)\n",
            "Downloading PennyLane-0.40.0-py3-none-any.whl (2.0 MB)\n",
            "\u001b[2K   \u001b[90m━━━━━━━━━━━━━━━━━━━━━━━━━━━━━━━━━━━━━━━━\u001b[0m \u001b[32m2.0/2.0 MB\u001b[0m \u001b[31m45.2 MB/s\u001b[0m eta \u001b[36m0:00:00\u001b[0m\n",
            "\u001b[?25hDownloading autoray-0.7.0-py3-none-any.whl (930 kB)\n",
            "\u001b[2K   \u001b[90m━━━━━━━━━━━━━━━━━━━━━━━━━━━━━━━━━━━━━━━━\u001b[0m \u001b[32m930.0/930.0 kB\u001b[0m \u001b[31m32.8 MB/s\u001b[0m eta \u001b[36m0:00:00\u001b[0m\n",
            "\u001b[?25hDownloading PennyLane_Lightning-0.40.0-cp311-cp311-manylinux_2_28_x86_64.whl (2.4 MB)\n",
            "\u001b[2K   \u001b[90m━━━━━━━━━━━━━━━━━━━━━━━━━━━━━━━━━━━━━━━━\u001b[0m \u001b[32m2.4/2.4 MB\u001b[0m \u001b[31m47.4 MB/s\u001b[0m eta \u001b[36m0:00:00\u001b[0m\n",
            "\u001b[?25hDownloading appdirs-1.4.4-py2.py3-none-any.whl (9.6 kB)\n",
            "Downloading diastatic_malt-2.15.2-py3-none-any.whl (167 kB)\n",
            "\u001b[2K   \u001b[90m━━━━━━━━━━━━━━━━━━━━━━━━━━━━━━━━━━━━━━━━\u001b[0m \u001b[32m167.9/167.9 kB\u001b[0m \u001b[31m12.1 MB/s\u001b[0m eta \u001b[36m0:00:00\u001b[0m\n",
            "\u001b[?25hDownloading tomlkit-0.13.2-py3-none-any.whl (37 kB)\n",
            "Downloading scipy_openblas32-0.3.29.0.0-py3-none-manylinux_2_17_x86_64.manylinux2014_x86_64.whl (8.6 MB)\n",
            "\u001b[2K   \u001b[90m━━━━━━━━━━━━━━━━━━━━━━━━━━━━━━━━━━━━━━━━\u001b[0m \u001b[32m8.6/8.6 MB\u001b[0m \u001b[31m71.5 MB/s\u001b[0m eta \u001b[36m0:00:00\u001b[0m\n",
            "\u001b[?25hInstalling collected packages: appdirs, tomlkit, scipy-openblas32, autoray, diastatic-malt, pennylane-lightning, pennylane\n",
            "Successfully installed appdirs-1.4.4 autoray-0.7.0 diastatic-malt-2.15.2 pennylane-0.40.0 pennylane-lightning-0.40.0 scipy-openblas32-0.3.29.0.0 tomlkit-0.13.2\n"
          ]
        }
      ],
      "source": [
        "pip install pennylane\n"
      ]
    },
    {
      "cell_type": "code",
      "execution_count": 23,
      "metadata": {
        "collapsed": true,
        "id": "PnxvZ-QBA9Fp",
        "colab": {
          "base_uri": "https://localhost:8080/"
        },
        "outputId": "fa0efc7e-1c7b-42cf-8d62-511aeca2278a"
      },
      "outputs": [
        {
          "output_type": "stream",
          "name": "stdout",
          "text": [
            "Requirement already satisfied: pennylane-lightning in /usr/local/lib/python3.11/dist-packages (0.40.0)\n",
            "Requirement already satisfied: pennylane>=0.37 in /usr/local/lib/python3.11/dist-packages (from pennylane-lightning) (0.40.0)\n",
            "Requirement already satisfied: scipy-openblas32>=0.3.26 in /usr/local/lib/python3.11/dist-packages (from pennylane-lightning) (0.3.29.0.0)\n",
            "Requirement already satisfied: numpy<2.1 in /usr/local/lib/python3.11/dist-packages (from pennylane>=0.37->pennylane-lightning) (1.26.4)\n",
            "Requirement already satisfied: scipy in /usr/local/lib/python3.11/dist-packages (from pennylane>=0.37->pennylane-lightning) (1.13.1)\n",
            "Requirement already satisfied: networkx in /usr/local/lib/python3.11/dist-packages (from pennylane>=0.37->pennylane-lightning) (3.4.2)\n",
            "Requirement already satisfied: rustworkx>=0.14.0 in /usr/local/lib/python3.11/dist-packages (from pennylane>=0.37->pennylane-lightning) (0.16.0)\n",
            "Requirement already satisfied: autograd in /usr/local/lib/python3.11/dist-packages (from pennylane>=0.37->pennylane-lightning) (1.7.0)\n",
            "Requirement already satisfied: tomlkit in /usr/local/lib/python3.11/dist-packages (from pennylane>=0.37->pennylane-lightning) (0.13.2)\n",
            "Requirement already satisfied: appdirs in /usr/local/lib/python3.11/dist-packages (from pennylane>=0.37->pennylane-lightning) (1.4.4)\n",
            "Requirement already satisfied: autoray>=0.6.11 in /usr/local/lib/python3.11/dist-packages (from pennylane>=0.37->pennylane-lightning) (0.7.0)\n",
            "Requirement already satisfied: cachetools in /usr/local/lib/python3.11/dist-packages (from pennylane>=0.37->pennylane-lightning) (5.5.1)\n",
            "Requirement already satisfied: requests in /usr/local/lib/python3.11/dist-packages (from pennylane>=0.37->pennylane-lightning) (2.32.3)\n",
            "Requirement already satisfied: typing-extensions in /usr/local/lib/python3.11/dist-packages (from pennylane>=0.37->pennylane-lightning) (4.12.2)\n",
            "Requirement already satisfied: packaging in /usr/local/lib/python3.11/dist-packages (from pennylane>=0.37->pennylane-lightning) (24.2)\n",
            "Requirement already satisfied: diastatic-malt in /usr/local/lib/python3.11/dist-packages (from pennylane>=0.37->pennylane-lightning) (2.15.2)\n",
            "Requirement already satisfied: astunparse in /usr/local/lib/python3.11/dist-packages (from diastatic-malt->pennylane>=0.37->pennylane-lightning) (1.6.3)\n",
            "Requirement already satisfied: gast in /usr/local/lib/python3.11/dist-packages (from diastatic-malt->pennylane>=0.37->pennylane-lightning) (0.6.0)\n",
            "Requirement already satisfied: termcolor in /usr/local/lib/python3.11/dist-packages (from diastatic-malt->pennylane>=0.37->pennylane-lightning) (2.5.0)\n",
            "Requirement already satisfied: charset-normalizer<4,>=2 in /usr/local/lib/python3.11/dist-packages (from requests->pennylane>=0.37->pennylane-lightning) (3.4.1)\n",
            "Requirement already satisfied: idna<4,>=2.5 in /usr/local/lib/python3.11/dist-packages (from requests->pennylane>=0.37->pennylane-lightning) (3.10)\n",
            "Requirement already satisfied: urllib3<3,>=1.21.1 in /usr/local/lib/python3.11/dist-packages (from requests->pennylane>=0.37->pennylane-lightning) (2.3.0)\n",
            "Requirement already satisfied: certifi>=2017.4.17 in /usr/local/lib/python3.11/dist-packages (from requests->pennylane>=0.37->pennylane-lightning) (2024.12.14)\n",
            "Requirement already satisfied: wheel<1.0,>=0.23.0 in /usr/local/lib/python3.11/dist-packages (from astunparse->diastatic-malt->pennylane>=0.37->pennylane-lightning) (0.45.1)\n",
            "Requirement already satisfied: six<2.0,>=1.6.1 in /usr/local/lib/python3.11/dist-packages (from astunparse->diastatic-malt->pennylane>=0.37->pennylane-lightning) (1.17.0)\n"
          ]
        }
      ],
      "source": [
        "pip install pennylane-lightning\n"
      ]
    },
    {
      "cell_type": "code",
      "execution_count": 24,
      "metadata": {
        "collapsed": true,
        "id": "ccSz9HcIYZPB",
        "colab": {
          "base_uri": "https://localhost:8080/"
        },
        "outputId": "ed769577-1208-4e1a-d285-2ac6a79c5f86"
      },
      "outputs": [
        {
          "output_type": "stream",
          "name": "stdout",
          "text": [
            "Requirement already satisfied: pennylane-lightning[gpu] in /usr/local/lib/python3.11/dist-packages (0.40.0)\n",
            "Requirement already satisfied: pennylane>=0.37 in /usr/local/lib/python3.11/dist-packages (from pennylane-lightning[gpu]) (0.40.0)\n",
            "Requirement already satisfied: scipy-openblas32>=0.3.26 in /usr/local/lib/python3.11/dist-packages (from pennylane-lightning[gpu]) (0.3.29.0.0)\n",
            "Collecting pennylane-lightning-gpu (from pennylane-lightning[gpu])\n",
            "  Downloading PennyLane_Lightning_GPU-0.40.0-cp311-cp311-manylinux_2_28_x86_64.whl.metadata (28 kB)\n",
            "Requirement already satisfied: numpy<2.1 in /usr/local/lib/python3.11/dist-packages (from pennylane>=0.37->pennylane-lightning[gpu]) (1.26.4)\n",
            "Requirement already satisfied: scipy in /usr/local/lib/python3.11/dist-packages (from pennylane>=0.37->pennylane-lightning[gpu]) (1.13.1)\n",
            "Requirement already satisfied: networkx in /usr/local/lib/python3.11/dist-packages (from pennylane>=0.37->pennylane-lightning[gpu]) (3.4.2)\n",
            "Requirement already satisfied: rustworkx>=0.14.0 in /usr/local/lib/python3.11/dist-packages (from pennylane>=0.37->pennylane-lightning[gpu]) (0.16.0)\n",
            "Requirement already satisfied: autograd in /usr/local/lib/python3.11/dist-packages (from pennylane>=0.37->pennylane-lightning[gpu]) (1.7.0)\n",
            "Requirement already satisfied: tomlkit in /usr/local/lib/python3.11/dist-packages (from pennylane>=0.37->pennylane-lightning[gpu]) (0.13.2)\n",
            "Requirement already satisfied: appdirs in /usr/local/lib/python3.11/dist-packages (from pennylane>=0.37->pennylane-lightning[gpu]) (1.4.4)\n",
            "Requirement already satisfied: autoray>=0.6.11 in /usr/local/lib/python3.11/dist-packages (from pennylane>=0.37->pennylane-lightning[gpu]) (0.7.0)\n",
            "Requirement already satisfied: cachetools in /usr/local/lib/python3.11/dist-packages (from pennylane>=0.37->pennylane-lightning[gpu]) (5.5.1)\n",
            "Requirement already satisfied: requests in /usr/local/lib/python3.11/dist-packages (from pennylane>=0.37->pennylane-lightning[gpu]) (2.32.3)\n",
            "Requirement already satisfied: typing-extensions in /usr/local/lib/python3.11/dist-packages (from pennylane>=0.37->pennylane-lightning[gpu]) (4.12.2)\n",
            "Requirement already satisfied: packaging in /usr/local/lib/python3.11/dist-packages (from pennylane>=0.37->pennylane-lightning[gpu]) (24.2)\n",
            "Requirement already satisfied: diastatic-malt in /usr/local/lib/python3.11/dist-packages (from pennylane>=0.37->pennylane-lightning[gpu]) (2.15.2)\n",
            "Requirement already satisfied: custatevec-cu12 in /usr/local/lib/python3.11/dist-packages (from pennylane-lightning-gpu->pennylane-lightning[gpu]) (1.7.0)\n",
            "Requirement already satisfied: nvidia-nvjitlink-cu12 in /usr/local/lib/python3.11/dist-packages (from pennylane-lightning-gpu->pennylane-lightning[gpu]) (12.6.85)\n",
            "Requirement already satisfied: nvidia-cusparse-cu12 in /usr/local/lib/python3.11/dist-packages (from pennylane-lightning-gpu->pennylane-lightning[gpu]) (12.1.0.106)\n",
            "Requirement already satisfied: nvidia-cublas-cu12 in /usr/local/lib/python3.11/dist-packages (from pennylane-lightning-gpu->pennylane-lightning[gpu]) (12.1.3.1)\n",
            "Requirement already satisfied: nvidia-cuda-runtime-cu12 in /usr/local/lib/python3.11/dist-packages (from pennylane-lightning-gpu->pennylane-lightning[gpu]) (12.1.105)\n",
            "Requirement already satisfied: astunparse in /usr/local/lib/python3.11/dist-packages (from diastatic-malt->pennylane>=0.37->pennylane-lightning[gpu]) (1.6.3)\n",
            "Requirement already satisfied: gast in /usr/local/lib/python3.11/dist-packages (from diastatic-malt->pennylane>=0.37->pennylane-lightning[gpu]) (0.6.0)\n",
            "Requirement already satisfied: termcolor in /usr/local/lib/python3.11/dist-packages (from diastatic-malt->pennylane>=0.37->pennylane-lightning[gpu]) (2.5.0)\n",
            "Requirement already satisfied: charset-normalizer<4,>=2 in /usr/local/lib/python3.11/dist-packages (from requests->pennylane>=0.37->pennylane-lightning[gpu]) (3.4.1)\n",
            "Requirement already satisfied: idna<4,>=2.5 in /usr/local/lib/python3.11/dist-packages (from requests->pennylane>=0.37->pennylane-lightning[gpu]) (3.10)\n",
            "Requirement already satisfied: urllib3<3,>=1.21.1 in /usr/local/lib/python3.11/dist-packages (from requests->pennylane>=0.37->pennylane-lightning[gpu]) (2.3.0)\n",
            "Requirement already satisfied: certifi>=2017.4.17 in /usr/local/lib/python3.11/dist-packages (from requests->pennylane>=0.37->pennylane-lightning[gpu]) (2024.12.14)\n",
            "Requirement already satisfied: wheel<1.0,>=0.23.0 in /usr/local/lib/python3.11/dist-packages (from astunparse->diastatic-malt->pennylane>=0.37->pennylane-lightning[gpu]) (0.45.1)\n",
            "Requirement already satisfied: six<2.0,>=1.6.1 in /usr/local/lib/python3.11/dist-packages (from astunparse->diastatic-malt->pennylane>=0.37->pennylane-lightning[gpu]) (1.17.0)\n",
            "Downloading PennyLane_Lightning_GPU-0.40.0-cp311-cp311-manylinux_2_28_x86_64.whl (1.0 MB)\n",
            "\u001b[2K   \u001b[90m━━━━━━━━━━━━━━━━━━━━━━━━━━━━━━━━━━━━━━━━\u001b[0m \u001b[32m1.0/1.0 MB\u001b[0m \u001b[31m17.5 MB/s\u001b[0m eta \u001b[36m0:00:00\u001b[0m\n",
            "\u001b[?25hInstalling collected packages: pennylane-lightning-gpu\n",
            "Successfully installed pennylane-lightning-gpu-0.40.0\n"
          ]
        }
      ],
      "source": [
        "!pip install pennylane-lightning[gpu]\n"
      ]
    },
    {
      "cell_type": "code",
      "execution_count": 25,
      "metadata": {
        "colab": {
          "base_uri": "https://localhost:8080/"
        },
        "id": "dVHAznjoCrXP",
        "outputId": "6d3d362d-0cf2-4312-c01f-26d0fc0da28b"
      },
      "outputs": [
        {
          "output_type": "stream",
          "name": "stdout",
          "text": [
            "Requirement already satisfied: pip in /usr/local/lib/python3.11/dist-packages (24.1.2)\n",
            "Collecting pip\n",
            "  Downloading pip-25.0-py3-none-any.whl.metadata (3.7 kB)\n",
            "Downloading pip-25.0-py3-none-any.whl (1.8 MB)\n",
            "\u001b[2K   \u001b[90m━━━━━━━━━━━━━━━━━━━━━━━━━━━━━━━━━━━━━━━━\u001b[0m \u001b[32m1.8/1.8 MB\u001b[0m \u001b[31m30.0 MB/s\u001b[0m eta \u001b[36m0:00:00\u001b[0m\n",
            "\u001b[?25hInstalling collected packages: pip\n",
            "  Attempting uninstall: pip\n",
            "    Found existing installation: pip 24.1.2\n",
            "    Uninstalling pip-24.1.2:\n",
            "      Successfully uninstalled pip-24.1.2\n",
            "Successfully installed pip-25.0\n",
            "Requirement already satisfied: pennylane in /usr/local/lib/python3.11/dist-packages (0.40.0)\n",
            "Requirement already satisfied: cuquantum-cu12 in /usr/local/lib/python3.11/dist-packages (24.11.0)\n",
            "Requirement already satisfied: pennylane-lightning[gpu] in /usr/local/lib/python3.11/dist-packages (0.40.0)\n",
            "Requirement already satisfied: numpy<2.1 in /usr/local/lib/python3.11/dist-packages (from pennylane) (1.26.4)\n",
            "Requirement already satisfied: scipy in /usr/local/lib/python3.11/dist-packages (from pennylane) (1.13.1)\n",
            "Requirement already satisfied: networkx in /usr/local/lib/python3.11/dist-packages (from pennylane) (3.4.2)\n",
            "Requirement already satisfied: rustworkx>=0.14.0 in /usr/local/lib/python3.11/dist-packages (from pennylane) (0.16.0)\n",
            "Requirement already satisfied: autograd in /usr/local/lib/python3.11/dist-packages (from pennylane) (1.7.0)\n",
            "Requirement already satisfied: tomlkit in /usr/local/lib/python3.11/dist-packages (from pennylane) (0.13.2)\n",
            "Requirement already satisfied: appdirs in /usr/local/lib/python3.11/dist-packages (from pennylane) (1.4.4)\n",
            "Requirement already satisfied: autoray>=0.6.11 in /usr/local/lib/python3.11/dist-packages (from pennylane) (0.7.0)\n",
            "Requirement already satisfied: cachetools in /usr/local/lib/python3.11/dist-packages (from pennylane) (5.5.1)\n",
            "Requirement already satisfied: requests in /usr/local/lib/python3.11/dist-packages (from pennylane) (2.32.3)\n",
            "Requirement already satisfied: typing-extensions in /usr/local/lib/python3.11/dist-packages (from pennylane) (4.12.2)\n",
            "Requirement already satisfied: packaging in /usr/local/lib/python3.11/dist-packages (from pennylane) (24.2)\n",
            "Requirement already satisfied: diastatic-malt in /usr/local/lib/python3.11/dist-packages (from pennylane) (2.15.2)\n",
            "Requirement already satisfied: scipy-openblas32>=0.3.26 in /usr/local/lib/python3.11/dist-packages (from pennylane-lightning[gpu]) (0.3.29.0.0)\n",
            "Requirement already satisfied: pennylane-lightning-gpu in /usr/local/lib/python3.11/dist-packages (from pennylane-lightning[gpu]) (0.40.0)\n",
            "Requirement already satisfied: custatevec-cu12==1.7.0 in /usr/local/lib/python3.11/dist-packages (from cuquantum-cu12) (1.7.0)\n",
            "Requirement already satisfied: cutensornet-cu12==2.6.0 in /usr/local/lib/python3.11/dist-packages (from cuquantum-cu12) (2.6.0)\n",
            "Requirement already satisfied: cudensitymat-cu12==0.0.5 in /usr/local/lib/python3.11/dist-packages (from cuquantum-cu12) (0.0.5)\n",
            "Requirement already satisfied: cutensor-cu12<3,>=2.0.2 in /usr/local/lib/python3.11/dist-packages (from cudensitymat-cu12==0.0.5->cuquantum-cu12) (2.0.2)\n",
            "Requirement already satisfied: astunparse in /usr/local/lib/python3.11/dist-packages (from diastatic-malt->pennylane) (1.6.3)\n",
            "Requirement already satisfied: gast in /usr/local/lib/python3.11/dist-packages (from diastatic-malt->pennylane) (0.6.0)\n",
            "Requirement already satisfied: termcolor in /usr/local/lib/python3.11/dist-packages (from diastatic-malt->pennylane) (2.5.0)\n",
            "Requirement already satisfied: nvidia-nvjitlink-cu12 in /usr/local/lib/python3.11/dist-packages (from pennylane-lightning-gpu->pennylane-lightning[gpu]) (12.6.85)\n",
            "Requirement already satisfied: nvidia-cusparse-cu12 in /usr/local/lib/python3.11/dist-packages (from pennylane-lightning-gpu->pennylane-lightning[gpu]) (12.1.0.106)\n",
            "Requirement already satisfied: nvidia-cublas-cu12 in /usr/local/lib/python3.11/dist-packages (from pennylane-lightning-gpu->pennylane-lightning[gpu]) (12.1.3.1)\n",
            "Requirement already satisfied: nvidia-cuda-runtime-cu12 in /usr/local/lib/python3.11/dist-packages (from pennylane-lightning-gpu->pennylane-lightning[gpu]) (12.1.105)\n",
            "Requirement already satisfied: charset-normalizer<4,>=2 in /usr/local/lib/python3.11/dist-packages (from requests->pennylane) (3.4.1)\n",
            "Requirement already satisfied: idna<4,>=2.5 in /usr/local/lib/python3.11/dist-packages (from requests->pennylane) (3.10)\n",
            "Requirement already satisfied: urllib3<3,>=1.21.1 in /usr/local/lib/python3.11/dist-packages (from requests->pennylane) (2.3.0)\n",
            "Requirement already satisfied: certifi>=2017.4.17 in /usr/local/lib/python3.11/dist-packages (from requests->pennylane) (2024.12.14)\n",
            "Requirement already satisfied: wheel<1.0,>=0.23.0 in /usr/local/lib/python3.11/dist-packages (from astunparse->diastatic-malt->pennylane) (0.45.1)\n",
            "Requirement already satisfied: six<2.0,>=1.6.1 in /usr/local/lib/python3.11/dist-packages (from astunparse->diastatic-malt->pennylane) (1.17.0)\n",
            "Running PennyLane...\n",
            "PennyLane Results: {'0000000000000000000000000': 508, '1111111111111111111111111': 492}\n",
            "PennyLane Execution Time: 72.84 seconds\n"
          ]
        }
      ],
      "source": [
        "!pip install --upgrade pip\n",
        "!pip install pennylane pennylane-lightning[gpu] cuquantum-cu12\n",
        "\n",
        "import pennylane as qml\n",
        "from pennylane import numpy as np\n",
        "import time\n",
        "\n",
        "# إعداد الجهاز\n",
        "n_qubits = 25  # عدد الكيوبتات\n",
        "device = qml.device(\"lightning.gpu\", wires=n_qubits, shots=1)  # لقطة واحدة لكل تشغيل\n",
        "\n",
        "# تعريف الدائرة الكمومية\n",
        "@qml.qnode(device)\n",
        "def ghz_circuit():\n",
        "    qml.Hadamard(wires=0)  # بوابة هادامارد على أول كيوبت\n",
        "    for i in range(n_qubits - 1):  # بوابات CNOT\n",
        "        qml.CNOT(wires=[i, i + 1])\n",
        "    return qml.sample(wires=range(n_qubits))  # قياس جميع الكيوبتات\n",
        "\n",
        "# تشغيل الدائرة وحساب الزمن\n",
        "print(\"Running PennyLane...\")\n",
        "start_time = time.time()\n",
        "shots = 1_000 # عدد اللقطات\n",
        "counts = {\"0\" * n_qubits: 0, \"1\" * n_qubits: 0}  # إعداد العدادات\n",
        "\n",
        "for _ in range(shots):\n",
        "    result = ghz_circuit()  # تشغيل الدائرة\n",
        "    result_str = \"\".join(map(str, result))  # تحويل النتيجة إلى سلسلة\n",
        "    if result_str in counts:\n",
        "        counts[result_str] += 1\n",
        "\n",
        "execution_time = time.time() - start_time\n",
        "\n",
        "# طباعة النتائج\n",
        "print(f\"PennyLane Results: {counts}\")\n",
        "print(f\"PennyLane Execution Time: {execution_time:.2f} seconds\")\n"
      ]
    },
    {
      "cell_type": "markdown",
      "metadata": {
        "id": "cocDfxcoKFzH"
      },
      "source": [
        "#Technical Results and Analysis"
      ]
    },
    {
      "cell_type": "markdown",
      "source": [
        "1. NVIDIA CUDA-Q\n",
        "\n",
        "    Execution Time:\n",
        "        GPU: 0.91 seconds for 1,000,000 shots.\n",
        "        CPU: 690 seconds for 1,000,000 shots.\n",
        "    Results:\n",
        "        Near-equal distribution between \"000...0\" and \"111...1\".\n",
        "    Analysis:\n",
        "        The performance on GPU NVIDIA was extremely fast due to efficient parallel computing.\n",
        "        CUDA-Q is highly optimized for handling large numbers of shots."
      ],
      "metadata": {
        "id": "c3l0XTCVier6"
      }
    },
    {
      "cell_type": "markdown",
      "source": [
        "2. Qiskit (Aer Simulator)\n",
        "\n",
        "    Execution Time:\n",
        "        CPU/GPU (Aer Simulator): 25.45 seconds for 1,000,000 shots.\n",
        "    Results:\n",
        "        Near-equal distribution between \"000...0\" and \"111...1\".\n",
        "    Analysis:\n",
        "        Qiskit was slower than CUDA-Q on GPU, but faster than CUDA-Q on CPU.\n",
        "        Aer Simulator leverages software optimizations but doesn’t utilize GPU as effectively as CUDA-Q."
      ],
      "metadata": {
        "id": "tfqecT5Niibn"
      }
    },
    {
      "cell_type": "markdown",
      "source": [
        "3. PennyLane\n",
        "\n",
        "    Execution Time:\n",
        "        lightning.gpu (GPU): 72.84 seconds for 1000 shots.\n",
        "        \n",
        "    Results:\n",
        "        Results were as follows:\n",
        "         '000...0': 508\n",
        "         '111...1': 492\n",
        "         The results are balanced, as expected for a GHZ state, which alternates equally between these two states.\n",
        "    Analysis:\n",
        "       Pennylane (lightning.gpu) is designed for hybrid quantum-classical workflows and provides flexibility for various quantum hardware. However, it is not optimized purely for speed in quantum circuit execution.\n",
        "       The slower performance could be due to:\n",
        "       1- Overhead in preparing and managing the GPU resources.\n",
        "       2- Lack of specific optimizations for high-throughput quantum circuit sampling."
      ],
      "metadata": {
        "id": "XrkAzrQXjH6E"
      }
    },
    {
      "cell_type": "code",
      "source": [
        "from prettytable import PrettyTable\n",
        "\n",
        "# Create the PrettyTable instance\n",
        "table = PrettyTable()\n",
        "\n",
        "# Define the columns\n",
        "table.field_names = [\n",
        "    \"Library\",\n",
        "    \"Device\",\n",
        "    \"Execution Time (1M Shots)\",\n",
        "    \"Result Distribution\",\n",
        "    \"Accuracy\",\n",
        "    \"Strengths\",\n",
        "    \"Weaknesses\",\n",
        "    \"Use Case Suitability\",\n",
        "    \"Remarks\"\n",
        "]\n",
        "\n",
        "# Add rows with data\n",
        "table.add_row([\n",
        "    \"Pennylane\",\n",
        "    \"GPU (T4)\",\n",
        "    \"72.84 seconds\",\n",
        "    \"Balanced (508/492)\",\n",
        "    \"High\",\n",
        "    \"Flexible for hybrid workflows and quantum ML.\",\n",
        "    \"Slower compared to CUDA-Q and Qiskit.\",\n",
        "    \"Quantum ML and prototyping.\",\n",
        "    \"Excellent for hybrid ML-quantum applications but slower.\"\n",
        "])\n",
        "\n",
        "table.add_row([\n",
        "    \"CUDA-Q\",\n",
        "    \"GPU (T4)\",\n",
        "    \"0.91 seconds\",\n",
        "    \"Balanced\",\n",
        "    \"High\",\n",
        "    \"Fastest execution for large-scale circuits.\",\n",
        "    \"Requires NVIDIA GPU for full optimization.\",\n",
        "    \"High-performance quantum circuit execution.\",\n",
        "    \"Best for fast and scalable simulations.\"\n",
        "])\n",
        "\n",
        "table.add_row([\n",
        "    \"CUDA-Q\",\n",
        "    \"CPU\",\n",
        "    \"690 seconds\",\n",
        "    \"Balanced\",\n",
        "    \"High\",\n",
        "    \"Handles large circuits but slow.\",\n",
        "    \"Extremely slow on CPU.\",\n",
        "    \"Fallback option when no GPU is available.\",\n",
        "    \"Not suitable for high-performance tasks.\"\n",
        "])\n",
        "\n",
        "table.add_row([\n",
        "    \"Qiskit Aer\",\n",
        "    \"Aer Simulator (CPU/GPU)\",\n",
        "    \"25.45 seconds\",\n",
        "    \"Balanced (500,694/499,306)\",\n",
        "    \"High\",\n",
        "    \"Reliable simulation with extensive ecosystem.\",\n",
        "    \"GPU utilization is limited compared to CUDA-Q.\",\n",
        "    \"Research and general simulation needs.\",\n",
        "    \"Good for prototyping but slower than CUDA-Q.\"\n",
        "])\n",
        "\n",
        "# Align columns\n",
        "table.align = \"l\"\n",
        "\n",
        "# Print the table\n",
        "print(table)\n"
      ],
      "metadata": {
        "colab": {
          "base_uri": "https://localhost:8080/"
        },
        "id": "diDKIJWRlj-u",
        "outputId": "0d99a4a5-1953-4b92-8d74-92cd6f91e21a"
      },
      "execution_count": 28,
      "outputs": [
        {
          "output_type": "stream",
          "name": "stdout",
          "text": [
            "+------------+-------------------------+---------------------------+----------------------------+----------+-----------------------------------------------+------------------------------------------------+---------------------------------------------+----------------------------------------------------------+\n",
            "| Library    | Device                  | Execution Time (1M Shots) | Result Distribution        | Accuracy | Strengths                                     | Weaknesses                                     | Use Case Suitability                        | Remarks                                                  |\n",
            "+------------+-------------------------+---------------------------+----------------------------+----------+-----------------------------------------------+------------------------------------------------+---------------------------------------------+----------------------------------------------------------+\n",
            "| Pennylane  | GPU (T4)                | 72.84 seconds             | Balanced (508/492)         | High     | Flexible for hybrid workflows and quantum ML. | Slower compared to CUDA-Q and Qiskit.          | Quantum ML and prototyping.                 | Excellent for hybrid ML-quantum applications but slower. |\n",
            "| CUDA-Q     | GPU (T4)                | 0.91 seconds              | Balanced                   | High     | Fastest execution for large-scale circuits.   | Requires NVIDIA GPU for full optimization.     | High-performance quantum circuit execution. | Best for fast and scalable simulations.                  |\n",
            "| CUDA-Q     | CPU                     | 690 seconds               | Balanced                   | High     | Handles large circuits but slow.              | Extremely slow on CPU.                         | Fallback option when no GPU is available.   | Not suitable for high-performance tasks.                 |\n",
            "| Qiskit Aer | Aer Simulator (CPU/GPU) | 25.45 seconds             | Balanced (500,694/499,306) | High     | Reliable simulation with extensive ecosystem. | GPU utilization is limited compared to CUDA-Q. | Research and general simulation needs.      | Good for prototyping but slower than CUDA-Q.             |\n",
            "+------------+-------------------------+---------------------------+----------------------------+----------+-----------------------------------------------+------------------------------------------------+---------------------------------------------+----------------------------------------------------------+\n"
          ]
        }
      ]
    }
  ],
  "metadata": {
    "accelerator": "GPU",
    "colab": {
      "gpuType": "T4",
      "provenance": [],
      "authorship_tag": "ABX9TyMUSwgc4icRHZb4jJQdcK7d",
      "include_colab_link": true
    },
    "kernelspec": {
      "display_name": "Python 3",
      "name": "python3"
    },
    "language_info": {
      "name": "python"
    }
  },
  "nbformat": 4,
  "nbformat_minor": 0
}